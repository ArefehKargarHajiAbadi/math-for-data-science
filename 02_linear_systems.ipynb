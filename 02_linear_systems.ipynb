{
 "cells": [
  {
   "cell_type": "markdown",
   "id": "30ffb6e3-0d73-407d-ad01-bc82de0ce6a2",
   "metadata": {},
   "source": [
    "# Table of Contents\n",
    "1. [System Of Linear Equations](#SL)\n",
    "- [Definition](#D)\n",
    "2. [Solving The System](#S)\n",
    "- [Types of Solutions](#TypesofSolutions)\n",
    "  - [One Solution Case](#OneSolutionCase)\n",
    "  - [No Solution (Inconsistent System)](#NoSolution)\n",
    "  - [Infinite Solutions (Dependent System)](#InfiniteSolutions)\n",
    "  - [Visualization of Linear System Solutions](#Visualization)\n",
    "- [Systematic Solution of Linear Systems (Row Reduction & Pivots)](#SystematicSolution)\n",
    "  - [Elementary Row Operations](#ElementaryRowOperations)\n",
    "  - [Row Echelon Form (REF)](#REF)\n",
    "  - [Reduced Row Echelon Form (RREF)](#RREF)\n",
    "  - [Pivot and Free Variables](#Pivot)\n",
    "  - [Solve the system systematically](#Solve)"
   ]
  },
  {
   "cell_type": "markdown",
   "id": "3895852b-a43d-427d-baff-73c0ab592858",
   "metadata": {},
   "source": [
    "## system of linear equations <a name='SL'></a>\n",
    "### Definition <a name='D'></a>\n",
    "A **system of linear equations** is a collection of equations that share the same variables:\n",
    "$$\n",
    "\\begin{cases}\n",
    "a_1x + b_1y = c_1 \\\\\n",
    "a_2x + b_2y = c_2\n",
    "\\end{cases}\n",
    "$$\n",
    "\n",
    "**Matrix form:**\n",
    "\n",
    "$$\n",
    "A\\mathbf{x} = \\mathbf{b}\n",
    "$$\n",
    "\n",
    "$$\n",
    "A =\n",
    "\\begin{bmatrix}\n",
    "a_1 & b_1\\\\\n",
    "a_2 &b_2\n",
    "\\end{bmatrix},\\quad\n",
    "\\mathbf{x} =\n",
    "\\begin{bmatrix}\n",
    "x \\\\ y\n",
    "\\end{bmatrix} ,\\quad\n",
    "\\mathbf{b} = \n",
    "\\begin{bmatrix}\n",
    "c_1 \\\\ c_2\n",
    "\\end{bmatrix}\n",
    "$$\n",
    "\n",
    "## Solving The System  : <a name='S'></a>"
   ]
  },
  {
   "cell_type": "code",
   "execution_count": 165,
   "id": "e61873ad-1f6d-49c4-8760-8349205a3832",
   "metadata": {},
   "outputs": [
    {
     "name": "stdout",
     "output_type": "stream",
     "text": [
      "Matrix A:\n",
      " [[ 2  1]\n",
      " [ 4 -6]]\n",
      "Vector b: [ 5 -2]\n",
      "Solution [1.75 1.5 ]\n"
     ]
    }
   ],
   "source": [
    "import numpy as np\n",
    "# Define matrix A and vector b\n",
    "A = np.array([[2, 1],\n",
    "              [4, -6]])\n",
    "b = np.array([5, -2])\n",
    "\n",
    "print(\"Matrix A:\\n\", A)\n",
    "print(\"Vector b:\", b)\n",
    "\n",
    "x = np.linalg.solve(A, b)\n",
    "print('Solution', x)"
   ]
  },
  {
   "cell_type": "markdown",
   "id": "65e16121-7975-40ac-8c70-62bcfb9dd7b6",
   "metadata": {},
   "source": [
    "### Types of Solutions <a name='TypesofSolutions'></a>\n",
    "####  One Solution Case <a name='OneSolutionCase'></a>\n",
    "\n",
    "A linear system \n",
    "$( A\\mathbf{x} = \\mathbf{b} )$ \n",
    "has **one unique solution** when the determinant of the coefficient matrix is **nonzero**:\n",
    "\n",
    "$$\n",
    "\\det(A) \\neq 0\n",
    "$$\n",
    "\n",
    "This means that the matrix \\( A \\) is **invertible**, and the solution can be found as:\n",
    "\n",
    "$$\n",
    "\\mathbf{x} = A^{-1}\\mathbf{b}\n",
    "$$\n",
    "\n",
    "**Geometric interpretation:**\n",
    "- In **2D**, the two lines **intersect at exactly one point**.  \n",
    "- In **3D**, the three planes intersect at a **single point**.\n",
    "\n",
    "---\n",
    "**Example**\n",
    "\n",
    "$$\n",
    "\\begin{cases}\n",
    "x + y = 5 \\\\\n",
    "2x + 3y = 12\n",
    "\\end{cases}\n",
    "$$\n",
    "\n",
    "**Matrix form:**\n",
    "\n",
    "$$\n",
    "A =\n",
    "\\begin{bmatrix}\n",
    "1 & 1 \\\\\n",
    "2 & 3\n",
    "\\end{bmatrix}, \\quad\n",
    "\\mathbf{b} =\n",
    "\\begin{bmatrix}\n",
    "5 \\\\ 12\n",
    "\\end{bmatrix}\n",
    "$$"
   ]
  },
  {
   "cell_type": "code",
   "execution_count": 168,
   "id": "406eb03e-1399-48c7-8be8-447c028ead34",
   "metadata": {},
   "outputs": [
    {
     "name": "stdout",
     "output_type": "stream",
     "text": [
      "det(A) = 1.0\n",
      "Solution: [3. 2.]\n"
     ]
    }
   ],
   "source": [
    "import numpy as np\n",
    "\n",
    "A = np.array([[1,1],\n",
    "              [2,3]])\n",
    "b = np.array([5, 12])\n",
    "\n",
    "det_A = np.linalg.det(A)\n",
    "x = np.linalg.solve(A, b)\n",
    "print(\"det(A) =\", det_A) # Since det(A) != 0 there is exactly one solution\n",
    "print(\"Solution:\", x)"
   ]
  },
  {
   "cell_type": "markdown",
   "id": "3ef45c2e-5524-42a3-b5de-256c72981065",
   "metadata": {},
   "source": [
    "#### No Solution (Inconsistent System)<a name='NoSolution'></a>\n",
    "Occurs when the system is **inconsistent** — the equations represent **parallel lines** that never meet.\n",
    "\n",
    "**Example:**\n",
    "\n",
    "$$\n",
    "\\begin{cases}\n",
    "x + y = 2 \\\\\n",
    "2x + 2y = 5\n",
    "\\end{cases}\n",
    "$$\n",
    "\n",
    "**Matrix form**\n",
    "$$\n",
    "A = \\begin{bmatrix}\n",
    "1 & 1 \\\\\n",
    "2 & 2\n",
    "\\end{bmatrix},\\quad \n",
    "\\mathbf{b} = \\begin{bmatrix} 2 \\\\ 5\n",
    "\\end{bmatrix}$$"
   ]
  },
  {
   "cell_type": "code",
   "execution_count": 171,
   "id": "ff70b33b-75da-400e-ba53-690627c5705c",
   "metadata": {},
   "outputs": [
    {
     "name": "stdout",
     "output_type": "stream",
     "text": [
      "No solution - system is inconsistent (parallel lines)\n"
     ]
    }
   ],
   "source": [
    "import numpy as np\n",
    "A  = np.array([[1, 1],\n",
    "               [2, 2]])\n",
    "b = np.array([2 , 5])\n",
    "\n",
    "try :\n",
    "    np.linalg.solve(A , b)\n",
    "except np.linalg.LinAlgError:\n",
    "    print('No solution - system is inconsistent (parallel lines)')"
   ]
  },
  {
   "cell_type": "markdown",
   "id": "bb0808e5-7fb3-4ec3-bcd1-f59e2f462366",
   "metadata": {},
   "source": [
    "#### Infinite Solutions (Dependent System) <a name='Infinite Solutions'></a>\n",
    "\n",
    "Occurs when one equation is a scalar multiple of another — representing the same line.<br>\n",
    "**Example:**\n",
    "\n",
    "$$\n",
    "\\begin{cases}\n",
    "x + 2y = 4\\\\\n",
    "2x + 4y = 8\n",
    "\\end{cases}\n",
    "$$\n",
    "**Matrix form:**\n",
    "$$\n",
    "A = \\begin{bmatrix}\n",
    "1 & 2 \\\\\n",
    "2 & 4\n",
    "\\end{bmatrix}, \\quad\n",
    "\\mathbf{b} = \\begin{bmatrix} 4 \\\\ 8 \n",
    "\\end{bmatrix}\n",
    "$$"
   ]
  },
  {
   "cell_type": "code",
   "execution_count": 174,
   "id": "d57032d8-308b-47fa-99cb-9b5503a50e57",
   "metadata": {},
   "outputs": [
    {
     "name": "stdout",
     "output_type": "stream",
     "text": [
      " Infinite solutions — dependent equations (same line).\n"
     ]
    }
   ],
   "source": [
    "import numpy as np\n",
    "A = np.array([[1,2],\n",
    "             [2,4]])\n",
    "b = np.array([4, 8])\n",
    "\n",
    "rank_A = np.linalg.matrix_rank(A)\n",
    "rank_Ab = np.linalg.matrix_rank(np.c_[A, b])\n",
    "\n",
    "if rank_A == rank_Ab and rank_A < A.shape[1]:\n",
    "    print(' Infinite solutions — dependent equations (same line).')"
   ]
  },
  {
   "cell_type": "markdown",
   "id": "b80049f6-c11a-48ca-8437-d79a46322d46",
   "metadata": {},
   "source": [
    "### Visualization of Linear System Solutions<a name ='Visualization'></a>\n",
    "- Left plot: two lines meet  one unique solution.\n",
    "\n",
    "- Middle plot: lines never meet  no solution.\n",
    "\n",
    "- Right plot: lines coincide  infinite solutions."
   ]
  },
  {
   "cell_type": "code",
   "execution_count": 177,
   "id": "40d77a06-3663-4959-b04d-92de8a78dfcb",
   "metadata": {},
   "outputs": [
    {
     "data": {
      "image/png": "[encoded data removed]",
      "text/plain": [
       "<Figure size 1500x400 with 3 Axes>"
      ]
     },
     "metadata": {},
     "output_type": "display_data"
    }
   ],
   "source": [
    "import numpy as np\n",
    "import matplotlib.pyplot as plt\n",
    "\n",
    "# Define x values\n",
    "x = np.linspace(-5, 5, 100)\n",
    "\n",
    "# --- Case 1: One solution (intersecting lines)\n",
    "y1 = -x + 5       # Line 1: x + y = 5\n",
    "y2 = -2/3 * x + 4 # Line 2: 2x + 3y = 12  -> y = -2/3x + 4\n",
    "\n",
    "# --- Case 2: No solution (parallel lines)\n",
    "y3 = -x + 2       # Line 1: x + y = 2\n",
    "y4 = -x + 2.5     # Line 2: x + y = 2.5  -> parallel\n",
    "\n",
    "\n",
    "# --- Case 3: Infinite solutions (same line)\n",
    "y5 = -0.5 * x + 2 # Line 1: x + 2y = 4\n",
    "y6 = -0.5 * x + 2 # Line 2: 2x + 4y = 8  -> same line\n",
    "\n",
    "# --- Plotting\n",
    "fig, axes = plt.subplots(1, 3, figsize=(15, 4))\n",
    "plt.suptitle(\"Types of Solutions for Linear Systems\", fontsize=16)\n",
    "\n",
    "# One solution\n",
    "axes[0].plot(x, y1, label=\"x + y = 5\")\n",
    "axes[0].plot(x, y2, label=\"2x + 3y = 12\")\n",
    "axes[0].set_title(\"One Solution (Intersecting Lines)\")\n",
    "axes[0].legend()\n",
    "axes[0].grid(True)\n",
    "\n",
    "# No solution\n",
    "axes[1].plot(x, y3, label=\"x + y = 2\")\n",
    "axes[1].plot(x, y4, label=\"x + y = 2.5\", linestyle=\"--\")\n",
    "axes[1].set_title(\"No Solution (Parallel Lines)\")\n",
    "axes[1].legend()\n",
    "axes[1].grid(True)\n",
    "\n",
    "# Infinite solutions\n",
    "axes[2].plot(x, y5, label=\"x + 2y = 4\")\n",
    "axes[2].plot(x, y6, label=\"2x + 4y = 8\", linestyle=\"--\")\n",
    "axes[2].set_title(\"Infinite Solutions (Same Line)\")\n",
    "axes[2].legend()\n",
    "axes[2].grid(True)\n",
    "\n",
    "plt.show()\n"
   ]
  },
  {
   "cell_type": "markdown",
   "id": "0d0e81a1-abdb-4311-bb14-0ab967f3933c",
   "metadata": {},
   "source": [
    "riables.  \r\n",
    "\r\n",
    "---\r\n",
    "\n",
    "ate****.\r\n"
   ]
  },
  {
   "cell_type": "markdown",
   "id": "6281783c-95bf-479d-b026-2297a7550f03",
   "metadata": {},
   "source": []
  },
  {
   "cell_type": "markdown",
   "id": "1cbcb03e-6df4-457d-a122-cd268d10fb4f",
   "metadata": {},
   "source": [
    "### Systematic Solution of Linear Systems (Row Reduction & Pivots)<a name='SystematicSolution'></a>\n",
    "We now solve linear systems **systematically** using **row operations** instead of trial and error.  \n",
    "This method produces an **equivalent system** in a simpler form — **row echelon** or **reduced row echelon form** — making it easy to find solutions.\n",
    "\n",
    "#### Elementary Row Operations<a name='ElementaryRowOperations'>\n",
    "For a system $( A\\mathbf{x} = \\mathbf{b} )$ (or augmented matrix $([A|b])$), we can:\n",
    "\n",
    "1. Swap two rows: $ (R_i \\leftrightarrow R_j)$  \n",
    "2. Multiply a row by a nonzero scalar: $  ( kR_i \\rightarrow Ri$)\n",
    "3. Add a multiple of one row to another:  \n",
    "\n",
    "These operations produce an **equivalent system** (same solution set).\n",
    "\n",
    "---\n",
    "#### Row Echelon Form (REF) <a name='REF'></a>\n",
    "A matrix is in **row echelon form** if:\n",
    "\n",
    "1. All **nonzero rows** are above rows of all zeros.  \n",
    "2. The **leading coefficient** (first nonzero number from left, pivot) of a nonzero row is **to the right** of the pivot in the row above.  \n",
    "3. Entries **below a pivot are zero**.\n",
    "\n",
    "#### [Reduced Row Echelon Form (RREF)]<a name ='RREF'></a>\n",
    "RREF has all the properties of REF plus:\n",
    "\n",
    "1. Each pivot is **1**  \n",
    "2. All entries **above and below** a pivot are **0**  \n",
    "\n",
    "Once in RREF, the solution is **immediate**\n",
    "#### [Pivot and Free Variables]<a name='Pivot'></a>\n",
    "When solving a linear system using **row reduction**, variables fall into two categories:\n",
    "##### Pivot\n",
    "\n",
    "- A **pivot variable** corresponds to a **pivot column** in the **RREF** of the augmented matrix.  \n",
    "- These variables are **dependent** — their values are determined by the system.  \n",
    "- Each pivot column has a **leading 1** in RREF.\n",
    "\n",
    "**Example:**\n",
    "RREF:\n",
    "\n",
    "$$\n",
    "\\begin{bmatrix}\n",
    "1 & 0 & 3 & 5 \\\\\n",
    "0 & 1 & -2 & 4 \\\\\n",
    "0 & 0 & 0 & 0\n",
    "\\end{bmatrix}\n",
    "$$\n",
    "\n",
    " Pivot columns: 1st and 2nd $x_1$ and $x_2$ are pivot variables.\n",
    "\n",
    "##### Free Variables\n",
    "- A **free variable** corresponds to a **non-pivot column**.  \r\n",
    "- Its value can be chosen **arbitrarily** (parameter), and it generates **infinitely many solutions**.  \r\n",
    "- The general solution is expressed as a **linear combination** of free variables\n",
    "| Variable Type | Column Type in RREF | Meaning |\r\n",
    "|---------------|-------------------|---------|\r\n",
    "| Pivot | Leading 1 | Dependent, determined by the system |\r\n",
    "| Free  | No pivot | Independent, can take arbitrary values → parameterize solutions |.\r\n"
   ]
  },
  {
   "cell_type": "markdown",
   "id": "2abab431-2e86-4a03-836d-35cbd8d6c0f7",
   "metadata": {},
   "source": [
    "#### Solve the system systematically <a name='Solve'></a>\n",
    "**Example**\n",
    "$$\n",
    "\\begin{cases}\n",
    "x + 2y - z = 1 \\\\\n",
    "2x + 3y + z = 4 \\\\\n",
    "-x + y + 2z = -3\n",
    "\\end{cases}\n",
    "$$\n",
    "\n",
    "**Step 1 — Augmented Matrix**\n",
    "$\n",
    "[A|b] =\n",
    "\\begin{bmatrix}\n",
    "1 & 2 & -1 & 1 \\\\\n",
    "2 & 3 & 1 & 4 \\\\\n",
    "-1 & 1 & 2 & -3\n",
    "\\end{bmatrix}\n",
    "$<br>\n",
    "**Step 2 — Compute RREF (Row Reduction)**\n",
    "pivot_cols tells which variables are pivot variables (dependent), and the rest are free variables<br>\n",
    "**Step 3 _ Transform to REF or RREF**Identify pivots & free variables<br>\n",
    "**Step 4 _ Back-substitute (if REF) or read solution (RREF)**\n"
   ]
  },
  {
   "cell_type": "code",
   "execution_count": 268,
   "id": "fa9899f2-4286-4e34-bca6-91fe3c9ed84c",
   "metadata": {},
   "outputs": [
    {
     "name": "stdout",
     "output_type": "stream",
     "text": [
      "RREF Matrix:\n",
      " Matrix([[1, 0, 0, 3], [0, 1, 0, -4/5], [0, 0, 1, 2/5]])\n",
      "Pivot columns: (0, 1, 2)\n"
     ]
    }
   ],
   "source": [
    "#Example\n",
    "import numpy as np\n",
    "from sympy import Matrix\n",
    "#Augmented matrix\n",
    "Ab = Matrix([\n",
    "     [1, 2, -1, 1],\n",
    "     [2, 3, 1, 4],\n",
    "     [-1, 1, 2, -3]]\n",
    "           )\n",
    "#Compute RREF\n",
    "Ab_rref, pivot_cols = Ab.rref()\n",
    "print(\"RREF Matrix:\\n\", Ab_rref)\n",
    "print(\"Pivot columns:\", pivot_cols)\n"
   ]
  },
  {
   "cell_type": "markdown",
   "id": "23c05327-1cee-4aa0-80a5-d8b370d9af3d",
   "metadata": {
    "jp-MarkdownHeadingCollapsed": true
   },
   "source": [
    "# Solution of Example\n",
    "- pivot columns :1st, 2nd, 3rd columns\n",
    "- $x_1,x_2,x_3$ are pivot variables\n",
    "- No free variables in this system\n",
    "- Since all variables are pivots → there is exactly one solution.<br>\n",
    "**From the RREF, the system is already solved:**\n",
    "$$x_1=3, \\quad x_2=\\frac{-4}{5}, \\quad x_3=\\frac{2}{5}$$\n",
    "**the solution vector**:\n",
    "$$ \\mathbf{x} =\n",
    "\\begin{bmatrix}\n",
    "x_1 \\\\\n",
    "x_2 \\\\\n",
    "x_3\\\\\n",
    "\\end{bmatrix}\n",
    "= \n",
    "\\begin{bmatrix}\n",
    "3 \\\\\n",
    "\\frac{-4}{5} \\\\\n",
    "\\frac{2}{5}\n",
    "\\end{bmatrix}\n",
    "$$"
   ]
  },
  {
   "cell_type": "code",
   "execution_count": 284,
   "id": "2ff52a83-8b0a-41f9-9a89-afe09870af73",
   "metadata": {},
   "outputs": [
    {
     "name": "stdout",
     "output_type": "stream",
     "text": [
      "Solution vector x:\n",
      "Matrix([[3], [-0.800000000000000], [0.400000000000000]])\n"
     ]
    }
   ],
   "source": [
    "# Python Implementation\n",
    "\n",
    "from sympy import Matrix\n",
    "# Augmented matrix in RREF\n",
    "RREF = Matrix([\n",
    "    [1, 0, 0, 3],\n",
    "    [0, 1, 0, -4/5],\n",
    "    [0, 0, 1, 2/5]\n",
    "])\n",
    "\n",
    "# Solution is last column\n",
    "solution = RREF[:, -1]\n",
    "print(\"Solution vector x:\")\n",
    "print(solution)"
   ]
  }
 ],
 "metadata": {
  "kernelspec": {
   "display_name": "Python 3 (ipykernel)",
   "language": "python",
   "name": "python3"
  },
  "language_info": {
   "codemirror_mode": {
    "name": "ipython",
    "version": 3
   },
   "file_extension": ".py",
   "mimetype": "text/x-python",
   "name": "python",
   "nbconvert_exporter": "python",
   "pygments_lexer": "ipython3",
   "version": "3.12.4"
  }
 },
 "nbformat": 4,
 "nbformat_minor": 5
}
