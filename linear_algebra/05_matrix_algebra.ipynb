{
 "cells": [
  {
   "cell_type": "markdown",
   "id": "bef6a960-d3ca-4b77-ad1d-256d2f09b487",
   "metadata": {},
   "source": [
    "# Matrix Algebra\n",
    "1. [Determinant of a Matrix](#DeterminantofaMatrix)\n",
    "     - [Properties of Determinants](#PropertiesofDeterminants)\n",
    "2. [Invertible and Singular Matrices](#InverseofMatrix)\n",
    "3. [Solving Systems Using Inverse](#Solving)\n"
   ]
  },
  {
   "cell_type": "markdown",
   "id": "7f22469a-5a03-4d57-a615-176a42f90bcd",
   "metadata": {},
   "source": [
    "## 1.Determinant of a Matrix<a name='DeterminantofaMatrix'></a>\n",
    "The **determinant** of a square matrix $A$ is a scalar value that gives important information about the matrix, such as **invertibility** and **volume scaling** in linear transformations.\n",
    "\n",
    "---\n",
    "\n",
    "\n",
    "-  $$\\det(A) \\neq 0 \\implies A \\text{ is invertible}$$  \n",
    "-  $$\\det(A) = 0 \\implies A \\text{ is singular (not invertible)}$$\n",
    "\n",
    "**Example 2x2 matrix:**\n",
    "\n",
    "$$\n",
    "A = \\begin{bmatrix} a & b \\\\ c & d \\end{bmatrix}, \\quad\n",
    "\\det(A) = ad - bc\n",
    "$$\n",
    "\n",
    "**Example 3x3 matrix (cofactor expansion along first row):**\n",
    "\n",
    "$$\n",
    "A = \\begin{bmatrix} a_{11} & a_{12} & a_{13} \\\\ a_{21} & a_{22} & a_{23} \\\\ a_{31} & a_{32} & a_{33} \\end{bmatrix}, \\quad\n",
    "\\det(A) = a_{11} \\det(M_{11}) - a_{12} \\det(M_{12}) + a_{13} \\det(M_{13})\n",
    "$$\n",
    "\n",
    "where $M_{ij}$ is the **minor matrix** obtained by removing row $i$ and column $j$.\n",
    "\n",
    "---"
   ]
  },
  {
   "cell_type": "code",
   "execution_count": 129,
   "id": "9ececc04-fc48-4fe0-b59d-903b7ebe0468",
   "metadata": {},
   "outputs": [
    {
     "name": "stdout",
     "output_type": "stream",
     "text": [
      "det(A) = -2.0000000000000004\n"
     ]
    }
   ],
   "source": [
    "# Python Example:\n",
    "det_A = np.linalg.det(A)\n",
    "print(\"det(A) =\", det_A)"
   ]
  },
  {
   "cell_type": "markdown",
   "id": "bb780ad7-a1ec-410d-978f-6e64dbfb9b5a",
   "metadata": {},
   "source": [
    "## Properties of Determinants <a name='#PropertiesofDeterminants'></a>\n",
    "| Property | Description |\r\n",
    "|----------|-------------|\r\n",
    "| $$\\det(AB) = \\det(A) \\cdot \\det(B)$$ | Determinant of a product |\r\n",
    "| $$\\det(A^T) = \\det(A)$$ | Transpose does not change determinant |\r\n",
    "| $$\\det(D) = \\prod_i D_{ii}$$ | For diagonal or triangular matrix $$D$$ |\r\n",
    "| Row operations: | Swapping rows changes sign, scaling multiplies determinant, adding multiples of rows does not change determinant |\r\n"
   ]
  },
  {
   "cell_type": "markdown",
   "id": "87c1a485-1997-4bd1-9528-0afcd51b85b8",
   "metadata": {},
   "source": [
    "## 2.Invertible and Singular Matrices <a name='InverseofMatrix'></a>\n",
    "If $A$ is invertible, its inver $A^{-1}$ satisfies:\n",
    "$$AA^{-1}= A^{-1}A =I$$\n",
    "**Singular matrix:** $$\\det(A) = 0$$ → no inverse exists"
   ]
  },
  {
   "cell_type": "code",
   "execution_count": 99,
   "id": "c27d587d-65af-4ac1-b145-3fe02dba99f9",
   "metadata": {},
   "outputs": [
    {
     "name": "stdout",
     "output_type": "stream",
     "text": [
      "A^-1 =\n",
      " [[-2.   1. ]\n",
      " [ 1.5 -0.5]]\n",
      "Check A @ A^-1:\n",
      " [[1.00000000e+00 1.11022302e-16]\n",
      " [0.00000000e+00 1.00000000e+00]]\n"
     ]
    }
   ],
   "source": [
    "import numpy as np\n",
    "\n",
    "A = np.array([[1, 2],\n",
    "              [3, 4]])\n",
    "\n",
    "if np.linalg.det(A) !=0 :\n",
    "    A_inv = np.linalg.inv(A)\n",
    "    print(\"A^-1 =\\n\", A_inv)\n",
    "    print(\"Check A @ A^-1:\\n\", A @ A_inv)"
   ]
  },
  {
   "cell_type": "markdown",
   "id": "ad7066ad-b5e5-4998-a6fe-c12bce67de73",
   "metadata": {},
   "source": [
    "## 3. Solving Systems Using Inverse <a name='Solving'></a>\n",
    "For $Ax = b$, if A is invertible:\n",
    "$$ x = A^{-1}b$$"
   ]
  },
  {
   "cell_type": "code",
   "execution_count": 126,
   "id": "3f345f10-89e4-4f60-9835-a078c4507108",
   "metadata": {},
   "outputs": [
    {
     "name": "stdout",
     "output_type": "stream",
     "text": [
      "Solution vector x: [1. 2.]\n"
     ]
    }
   ],
   "source": [
    "#EXample \n",
    "b = np.array([5, 11])\n",
    "x = A_inv @ b\n",
    "print(\"Solution vector x:\", x)\n"
   ]
  }
 ],
 "metadata": {
  "kernelspec": {
   "display_name": "Python 3 (ipykernel)",
   "language": "python",
   "name": "python3"
  },
  "language_info": {
   "codemirror_mode": {
    "name": "ipython",
    "version": 3
   },
   "file_extension": ".py",
   "mimetype": "text/x-python",
   "name": "python",
   "nbconvert_exporter": "python",
   "pygments_lexer": "ipython3",
   "version": "3.12.4"
  }
 },
 "nbformat": 4,
 "nbformat_minor": 5
}
