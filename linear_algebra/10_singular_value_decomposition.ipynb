{
 "cells": [
  {
   "cell_type": "markdown",
   "id": "4c5ee926-6bf5-460d-aa66-dd1ea51829a5",
   "metadata": {},
   "source": [
    "# Singular Value Decomposition (SVD)\n",
    "##  What is SVD?\n",
    "\n",
    "**SVD (Singular Value Decomposition)** is a mathematical technique to **decompose any matrix** into three simpler matrices that reveal important structure about the data.\n",
    "\n",
    "The formula is:\n",
    "\n",
    "$$\n",
    "A = U \\Sigma V^T\n",
    "$$\n",
    "\n",
    "---\n",
    "\n",
    "## Meaning of Each Term\n",
    "\n",
    "| Symbol | Name | Intuition |\n",
    "|:--------|:------|:-----------|\n",
    "| $A$ | Original matrix | The data or system we start with |\n",
    "| $U$ | Left singular vectors | Basis directions for the rows |\n",
    "| $\\Sigma$ | Singular values | Strength or importance of each direction |\n",
    "| $V^T$ | Right singular vectors | Basis directions for the columns |\n",
    "\n",
    "---\n",
    "\n",
    "## Intuitive Understanding\n",
    "\n",
    "SVD finds **new coordinate axes** where your matrix looks as simple as possible (no correlation between features).\n",
    "\n",
    "- $V^T$ → rotates data to align with axes of maximum variance  \n",
    "- $\\Sigma$ → scales along those axes (like stretching)  \n",
    "- $U$ → rotates again to the output space  \n",
    "\n",
    "> In short: SVD turns any transformation into a simple “stretch + rotate” process.\n",
    "\n",
    "---\n",
    "|  Application |  Description |\r\n",
    "|:----------------|:----------------|\r\n",
    "| **PCA (Principal Component Analysis)** | PCA uses SVD internally to find directions of maximum variance |\r\n",
    "| **Image Compression** | Keep only the top singular values to reconstruct an image efficiently |\r\n",
    "| **Noise Reduction** | Remove small singular values to eliminate low-energy noise |\r\n",
    "| **Recommendation Systems** | Used in matrix factorization (e.g., Netflix, Spotify) |"
   ]
  },
  {
   "cell_type": "code",
   "execution_count": 7,
   "id": "ab22d9b6-b7d4-4251-888b-077924d11126",
   "metadata": {},
   "outputs": [
    {
     "name": "stdout",
     "output_type": "stream",
     "text": [
      "U:\n",
      " [[ 0.70710678 -0.70710678]\n",
      " [ 0.70710678  0.70710678]]\n",
      "\n",
      "Σ (Singular values):\n",
      " [3.46410162 3.16227766]\n",
      "\n",
      "V^T:\n",
      " [[ 4.08248290e-01  8.16496581e-01  4.08248290e-01]\n",
      " [-8.94427191e-01  4.47213595e-01  8.59279716e-16]\n",
      " [-1.82574186e-01 -3.65148372e-01  9.12870929e-01]]\n"
     ]
    }
   ],
   "source": [
    "import numpy as np\n",
    "\n",
    "A = np.array([[3, 1, 1],\n",
    "              [-1, 3, 1]])\n",
    "\n",
    "# Compute SVD\n",
    "U, S, VT = np.linalg.svd(A)\n",
    "\n",
    "print(\"U:\\n\", U)\n",
    "print(\"\\nΣ (Singular values):\\n\", S)\n",
    "print(\"\\nV^T:\\n\", VT)"
   ]
  },
  {
   "cell_type": "code",
   "execution_count": 9,
   "id": "9a7e02ff-e6eb-4292-87fa-82b28e15d2c3",
   "metadata": {},
   "outputs": [
    {
     "name": "stdout",
     "output_type": "stream",
     "text": [
      "\n",
      "Reconstructed A:\n",
      " [[ 3.  1.  1.]\n",
      " [-1.  3.  1.]]\n"
     ]
    }
   ],
   "source": [
    "# Convert S (vector) into diagonal matrix\n",
    "Sigma = np.zeros((A.shape[0], A.shape[1]))\n",
    "Sigma[:len(S), :len(S)] = np.diag(S)\n",
    "\n",
    "# Reconstruct A\n",
    "A_reconstructed = U @ Sigma @ VT\n",
    "print(\"\\nReconstructed A:\\n\", A_reconstructed)"
   ]
  }
 ],
 "metadata": {
  "kernelspec": {
   "display_name": "Python 3 (ipykernel)",
   "language": "python",
   "name": "python3"
  },
  "language_info": {
   "codemirror_mode": {
    "name": "ipython",
    "version": 3
   },
   "file_extension": ".py",
   "mimetype": "text/x-python",
   "name": "python",
   "nbconvert_exporter": "python",
   "pygments_lexer": "ipython3",
   "version": "3.12.4"
  }
 },
 "nbformat": 4,
 "nbformat_minor": 5
}
