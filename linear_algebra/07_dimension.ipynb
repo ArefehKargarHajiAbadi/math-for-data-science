{
 "cells": [
  {
   "cell_type": "markdown",
   "id": "23fb3ced-f0cf-4529-be9a-1466091003aa",
   "metadata": {},
   "source": [
    "# Linear Algebra _ 07 dimension\n",
    "##  Learning Objectives\n",
    "- Understand **Span**, **Basis**, and **Dimension** of a vector space  \n",
    "- Compute **Null Space** and **Column Space** of a matrix  \n",
    "- Relate the **dimension** of these subspaces to the **rank of a matrix**\n",
    "\n",
    "---\n"
   ]
  },
  {
   "cell_type": "markdown",
   "id": "d66b5bd3-68c7-4be7-9e2f-986a1ac0b2c3",
   "metadata": {},
   "source": [
    "# Table of Contents \n",
    "1. [Span of Vectors](#Span)\n",
    "2. [Dimension](#Dimension)\n",
    "3. [Relation Between Dimensions](#Relation)\n",
    "4.  [Visualization](#Visualization)"
   ]
  },
  {
   "cell_type": "markdown",
   "id": "f006a1bb-b502-40c7-9985-6f6617dc8b42",
   "metadata": {},
   "source": [
    "##  Span of Vectors<a name='Span'>\n",
    "\n",
    "The **span** of a set of vectors is the set of all possible **linear combinations** of those vectors.\n",
    "\n",
    "$$\n",
    "\\text{Span}\\{ \\mathbf{v}_1, \\mathbf{v}_2, \\dots, \\mathbf{v}_k \\}\n",
    "= \\{ c_1 \\mathbf{v}_1 + c_2 \\mathbf{v}_2 + \\dots + c_k \\mathbf{v}_k \\mid c_i \\in \\mathbb{R} \\}\n",
    "$$\n",
    "\n",
    "If vectors in a set **span** $\\mathbb{R}^n$, they form the entire n-dimensional space.\n",
    "\n",
    "\n",
    "## Dimension<a name='Dimension'>\n",
    "The **dimension** of a vector space is the **number of vectors in a basis**.\r\n",
    "\r\n",
    "$$\r\n",
    "\\dim(V) = \\text{number of basis vectors of } V\r\n",
    "$$\r\n",
    "\r\n",
    "If $A$ is an $m \\times n$ matrix:\r\n",
    "- **Column space** → all linear combinations of columns of $A$\r\n",
    "- **Null space** → all solutions $\\mathbf{x}$ to $A\\mathbf{x} = 0$\r\n"
   ]
  },
  {
   "cell_type": "code",
   "execution_count": 47,
   "id": "f2861c4e-198d-4863-b6aa-97aafd11f192",
   "metadata": {},
   "outputs": [
    {
     "name": "stdout",
     "output_type": "stream",
     "text": [
      "Column Space (basis vectors):\n",
      "Matrix([[1], [2], [1]])\n",
      "Matrix([[2], [4], [1]])\n",
      "\n",
      "Null Space (basis vectors):\n",
      "Matrix([[1], [-2], [1]])\n",
      "\n",
      "Rank (dimension of column space): 2\n",
      "Nullity (dimension of null space): 1\n"
     ]
    }
   ],
   "source": [
    "# Example in Python\n",
    "import numpy as np\n",
    "from sympy import Matrix\n",
    "A = Matrix([[1, 2, 3],\n",
    "            [2, 4, 6],\n",
    "            [1, 1, 1]])\n",
    "col_space = A.columnspace()\n",
    "null_space = A.nullspace()\n",
    "\n",
    "print(\"Column Space (basis vectors):\")\n",
    "for v in col_space :\n",
    "    print(v)\n",
    "\n",
    "print(\"\\nNull Space (basis vectors):\")\n",
    "for v in null_space:\n",
    "    print(v)\n",
    "\n",
    "print(\"\\nRank (dimension of column space):\", A.rank())\n",
    "print(\"Nullity (dimension of null space):\", len(null_space))\n"
   ]
  },
  {
   "cell_type": "markdown",
   "id": "4e371567-53e3-494b-a631-62adc2b3985a",
   "metadata": {
    "jp-MarkdownHeadingCollapsed": true
   },
   "source": [
    "( 2 + 1 = 3 = n \\)\\).\r\n",
    "\r\n",
    "---\n",
    "\r\n",
    "---"
   ]
  },
  {
   "cell_type": "markdown",
   "id": "3c9546c1-0320-4ec9-83e9-2108533a40a2",
   "metadata": {},
   "source": [
    "## Relation Between Dimensions<a name='Relation'>\n",
    "\n",
    "$$\n",
    "\\text{rank}(A) + \\text{nullity}(A) = n\n",
    "$$\n",
    "\n",
    "---\n",
    "### Explanation\n",
    "\n",
    "- **Rank(A)** → The number of **linearly independent columns** of \\( A \\).  \n",
    "  This equals the **dimension of the column space** (also called the **range** or **image** of \\( A \\)).\n",
    "\n",
    "- **Nullity(A)** → The number of **free variables** in the equation \\( A\\mathbf{x} = 0 \\).  \n",
    "  This equals the **dimension of the null space** (the set of solutions that map to zero).\n",
    "\n",
    "Together, they add up to the **total number of columns** \\( n \\).\n",
    "\n",
    "---\n",
    "### Example\n",
    "Let\n",
    "\n",
    "$$\n",
    "A =\n",
    "\\begin{bmatrix}\n",
    "1 & 2 & 3 \\\\\n",
    "2 & 4 & 6 \\\\\n",
    "1 & 1 & 1\n",
    "\\end{bmatrix}\n",
    "$$\n",
    "\n",
    "This is a $ 3 \\times 3 $ matrix.  \n",
    "Since the second column is a multiple of the first, the columns are **not all independent**.\n",
    "\n",
    "Therefore:\n",
    "\n",
    "- $\\text{rank}(A) = 2 $\n",
    "- $ \\text{nullity}(A) = 1 $\n",
    "- $ 2 + 1 = 3 = n $\n"
   ]
  },
  {
   "cell_type": "code",
   "execution_count": 51,
   "id": "2e4117c7-9136-42b5-bbd8-2da50c3c96c5",
   "metadata": {},
   "outputs": [
    {
     "name": "stdout",
     "output_type": "stream",
     "text": [
      "Rank (dimension of column space): 2\n",
      "Nullity (dimension of null space): 1\n",
      "Rank + Nullity = 3\n",
      "Number of columns = 3\n"
     ]
    }
   ],
   "source": [
    "# Example\n",
    "import numpy as np\n",
    "from sympy import Matrix\n",
    "\n",
    "A = Matrix([[1, 2, 3],\n",
    "            [2, 4, 6],\n",
    "            [1, 1, 1]])\n",
    "rank = A.rank()\n",
    "null_space = A.nullspace()\n",
    "\n",
    "print(\"Rank (dimension of column space):\", rank)\n",
    "print(\"Nullity (dimension of null space):\", len(null_space))\n",
    "print(\"Rank + Nullity =\", rank + len(null_space))\n",
    "print(\"Number of columns =\", A.shape[1])"
   ]
  },
  {
   "cell_type": "markdown",
   "id": "e99d4f7d-1c98-44ce-bff3-011ab4414f2c",
   "metadata": {},
   "source": [
    "## Intuition (Data Science View)\n",
    "\n",
    "**Rank**: How many useful directions your data truly has\n",
    "\n",
    "**Nullity**:How many redundant or dependent directions exist\n",
    "\n",
    "High rank means your data has more independent features → better for ML models"
   ]
  },
  {
   "cell_type": "markdown",
   "id": "45b642ee-d623-49e8-837e-fdb7f965ee72",
   "metadata": {},
   "source": [
    "## Visualization<a name='Visualization'>\n",
    "visualize a simple transformation where a matrix \\(A\\) maps 2D vectors into a line.  \r\n",
    "This will show that one direction is **lost** (null space) and the other **survives** (column space)."
   ]
  },
  {
   "cell_type": "code",
   "execution_count": 60,
   "id": "0840943c-34ee-41e9-be2f-8c8008534800",
   "metadata": {},
   "outputs": [
    {
     "data": {
      "image/png": "[encoded data removed]",
      "text/plain": [
       "<Figure size 1000x400 with 2 Axes>"
      ]
     },
     "metadata": {},
     "output_type": "display_data"
    }
   ],
   "source": [
    "import numpy as np\n",
    "import matplotlib.pyplot as plt\n",
    "\n",
    "\n",
    "# Define a simple 2x2 matrix that collapses 2D space into 1D (a line)\n",
    "A = np.array([[1, 1],\n",
    "              [2, 2]])\n",
    "\n",
    "x_vals = np.linspace(-2, 2 ,10)\n",
    "y_vals =  np.linspace(-2,2,10)\n",
    "X, Y = np.meshgrid(x_vals, y_vals)\n",
    "\n",
    "points = np.vstack([X.ravel(), Y.ravel()])\n",
    "transformed = A @ points\n",
    "\n",
    "plt.figure(figsize=(10,4))\n",
    "\n",
    "plt.subplot(1, 2, 1)\n",
    "plt.quiver(np.zeros_like(points[0]), np.zeros_like(points[1]), \n",
    "           points[0], points[1], color='gray', alpha=0.6)\n",
    "plt.title(\"Original Vectors (ℝ²)\")\n",
    "plt.xlabel(\"x1\")\n",
    "plt.ylabel(\"x2\")\n",
    "plt.axis('equal')\n",
    "\n",
    "# Plot transformed vectors\n",
    "plt.subplot(1, 2, 2)\n",
    "plt.quiver(np.zeros_like(transformed[0]), np.zeros_like(transformed[1]), \n",
    "           transformed[0], transformed[1], color='teal', alpha=0.8)\n",
    "plt.title(\"After Transformation A (Column Space)\")\n",
    "plt.xlabel(\"b1\")\n",
    "plt.ylabel(\"b2\")\n",
    "plt.axis('equal')\n",
    "\n",
    "plt.tight_layout()\n",
    "plt.show()"
   ]
  }
 ],
 "metadata": {
  "kernelspec": {
   "display_name": "Python 3 (ipykernel)",
   "language": "python",
   "name": "python3"
  },
  "language_info": {
   "codemirror_mode": {
    "name": "ipython",
    "version": 3
   },
   "file_extension": ".py",
   "mimetype": "text/x-python",
   "name": "python",
   "nbconvert_exporter": "python",
   "pygments_lexer": "ipython3",
   "version": "3.12.4"
  }
 },
 "nbformat": 4,
 "nbformat_minor": 5
}
