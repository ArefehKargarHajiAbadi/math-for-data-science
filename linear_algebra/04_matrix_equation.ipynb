{
 "cells": [
  {
   "cell_type": "markdown",
   "id": "9e9fb1e2-2e3f-4812-95df-b316072ffb89",
   "metadata": {},
   "source": [
    "# Table of Contents \n",
    "1. [Matrix Equations](#MatrixEquations)\n",
    "2. [Matrix Multiplication](#MatrixMultiplication)\n",
    "3. [Simple Matrix Rules](#SimpleMatrixRules)\n",
    "4. [Transpose of a Matrix](#TransposeofaMatrix)"
   ]
  },
  {
   "cell_type": "markdown",
   "id": "350dfe4f-df79-4a0d-94e1-7f75d49be718",
   "metadata": {},
   "source": [
    "## 1. Matrix Equations<a name='MatrixEquations'></a>\n",
    "A  **matrix equation** has the form:\n",
    "\n",
    "$$\n",
    "A \\mathbf{x} = \\mathbf{b}\n",
    "$$\n",
    "\n",
    "here:\n",
    "- َ$\\mathbf{A}$ is an $m \\times n$**matrix of coefficients**\n",
    "- $\\mathbf{x}$ is an $n \\times 1$ **vector of unknowns**\n",
    "- $\\mathbf{b}$ is an $m \\times 1$ **result vector**\n",
    "___\n",
    "**Example:**\n",
    "\n",
    "$$\n",
    "\\begin{bmatrix}\n",
    "1 & 2 \\\\\n",
    "3 & 4\n",
    "\\end{bmatrix}\n",
    "\\begin{bmatrix}\n",
    "x_1 \\\\ x_2\n",
    "\\end{bmatrix}\n",
    "=\n",
    "\\begin{bmatrix}\n",
    "5 \\\\ 11\n",
    "\\end{bmatrix}\n",
    "$$"
   ]
  },
  {
   "cell_type": "code",
   "execution_count": 75,
   "id": "58347542-5d6a-4a32-9e28-08ef9f270801",
   "metadata": {},
   "outputs": [
    {
     "name": "stdout",
     "output_type": "stream",
     "text": [
      "Solution vector x: [1. 2.]\n"
     ]
    }
   ],
   "source": [
    "# Python Example: \n",
    "import numpy as np\n",
    "A = np.array([[1,2],\n",
    "             [3,4]\n",
    "             ])\n",
    "b = np.array([5, 11])\n",
    "\n",
    "x = np.linalg.solve(A , b)\n",
    "print(\"Solution vector x:\", x)\n"
   ]
  },
  {
   "cell_type": "markdown",
   "id": "ce16b643-b6b3-43f4-ae4c-9c3474013877",
   "metadata": {},
   "source": [
    "## 2. Matrix Multiplication <a name='MatrixMultiplication'></a>\n",
    "**Given matrices** $\\mathbf{A}_{m \\times n}$  and $\\mathbf{B}_{n \\times p}$, their product $C = AB$ is an $m \\times p $ matrix:\n",
    "$$ c_{ij} = \\sum_{k = 1}^n a_{ik} b_{kj} $$\n",
    "\n",
    "**Rule:** the number of columns of A must equal the number of rows of B."
   ]
  },
  {
   "cell_type": "code",
   "execution_count": 78,
   "id": "51bd2615-2de2-4500-9a14-4843146149b8",
   "metadata": {},
   "outputs": [
    {
     "name": "stdout",
     "output_type": "stream",
     "text": [
      "Matrix C = A @ B:\n",
      " [[ 58  64]\n",
      " [139 154]]\n"
     ]
    }
   ],
   "source": [
    "# Python Example:\n",
    "A = np.array([[1, 2, 3],\n",
    "              [4, 5, 6]])\n",
    "B = np.array([[7, 8],\n",
    "              [9, 10],\n",
    "              [11, 12]])\n",
    "C = A @ B\n",
    "print(\"Matrix C = A @ B:\\n\", C)"
   ]
  },
  {
   "cell_type": "markdown",
   "id": "f7284302-e197-46ef-b57f-c89215508d25",
   "metadata": {},
   "source": [
    "## 3.Simple Matrix Rules<a name='SimpleMatrixRules'>\r\n",
    "\r\n",
    "| Rule | Description | Example |\r\n",
    "|------|------------|---------|\r\n",
    "| $$A + B = B + A$$ | **Addition is commutative** | `A = [[1,2],[3,4]], B = [[5,6],[7,8]]` |\r\n",
    "| $$A(BC) = (AB)C$$ | **Multiplication is associative** | `A @ (B @ C) == (A @ B) @ C` |\r\n",
    "| $$A(B + C) = AB + AC$$ | **Multiplication is distributive** | `A @ (B + C) == A @ B + A @ C` |\r\n",
    "| $$I_n A = A I_n = A$$ | Multiplying by the **identity matrix** | `I @ A == A @ I == A` |\r\n",
    "| $$(AB)^T = B^T A^T$$ | **Transpose reverses the order** of multiplication | `(A @ B).T == B.T @ A.T` |\r\n",
    "\n"
   ]
  },
  {
   "cell_type": "code",
   "execution_count": 81,
   "id": "70a74961-8088-4e92-a58c-1e7932b08b28",
   "metadata": {},
   "outputs": [
    {
     "name": "stdout",
     "output_type": "stream",
     "text": [
      "A + B == B + A: True\n",
      "A@(B@C) == (A@B)@C: True\n",
      "A@(B+C) == A@B + A@C: True\n",
      "I@A == A@I == A: True\n",
      "(A@B).T == B.T @ A.T: True\n"
     ]
    }
   ],
   "source": [
    "# Python Example: \n",
    "import numpy as np\n",
    "\n",
    "A = np.array([[1,2],[3,4]])\n",
    "B = np.array([[5,6],[7,8]])\n",
    "C = np.array([[2,0],[1,2]])\n",
    "I = np.eye(2)\n",
    "\n",
    "# Commutative\n",
    "print(\"A + B == B + A:\", np.allclose(A+B, B+A))\n",
    "\n",
    "# Associative\n",
    "print(\"A@(B@C) == (A@B)@C:\", np.allclose(A@(B@C), (A@B)@C))\n",
    "\n",
    "# Distributive\n",
    "print(\"A@(B+C) == A@B + A@C:\", np.allclose(A@(B+C), A@B + A@C))\n",
    "\n",
    "# Identity\n",
    "print(\"I@A == A@I == A:\", np.allclose(I@A, A) and np.allclose(A@I, A))\n",
    "\n",
    "# Transpose property\n",
    "print(\"(A@B).T == B.T @ A.T:\", np.allclose((A@B).T, B.T @ A.T))"
   ]
  },
  {
   "cell_type": "markdown",
   "id": "2d3bc611-f623-4b9d-89d9-a26f14c6a18f",
   "metadata": {},
   "source": [
    "## 4.Transpose of a Matrix <a name='TransposeofaMatrix'></a>\n",
    "The transpose of a matrix A, denoted $A^T$, flips rows and columns:\n",
    "$$\\mathbf{A} = \\begin{bmatrix} 1 & 2 & 3 \\\\\n",
    "4 & 5 & 6 \\end{bmatrix}, \\quad \\mathbf{A}^T = \\begin{bmatrix} 1 & 4\\\\ 2 & 5 \\\\ 3 & 6 \\end{bmatrix}$$\n",
    "\n",
    "### Transpose Properties\n",
    "| Property | Description |\r\n",
    "|----------|-------------|\r\n",
    "| $$(A^T)^T = A$$ | Transposing twice returns the original matrix |\r\n",
    "| $$(A + B)^T = A^T + B^T$$ | Transpose is **distributive** over addition |\r\n",
    "| $$(AB)^T = B^T A^T$$ | Transpose **reverses the order** of multiplication |"
   ]
  },
  {
   "cell_type": "code",
   "execution_count": 84,
   "id": "be904a60-d5f0-4d2c-9144-396c04faa39e",
   "metadata": {},
   "outputs": [
    {
     "name": "stdout",
     "output_type": "stream",
     "text": [
      "A Transposed:\n",
      " [[1 4]\n",
      " [2 5]\n",
      " [3 6]]\n"
     ]
    }
   ],
   "source": [
    "# Python Example\n",
    "A = np.array([[1, 2, 3],\n",
    "              [4, 5, 6]])\n",
    "A_T = A.T\n",
    "print(\"A Transposed:\\n\", A_T)\n"
   ]
  },
  {
   "cell_type": "code",
   "execution_count": 86,
   "id": "03cc893f-2f90-496d-b6d1-8edb226214c5",
   "metadata": {},
   "outputs": [
    {
     "name": "stdout",
     "output_type": "stream",
     "text": [
      "Transpose twice: True\n",
      "Transpose of sum: True\n",
      "Transpose of product: True\n"
     ]
    }
   ],
   "source": [
    "# Transpose Properties : Python Verification\n",
    "A = np.array([[1,2],[3,4]])\n",
    "B = np.array([[5,6],[7,8]])\n",
    "\n",
    "# Property 1\n",
    "print(\"Transpose twice:\", np.allclose((A.T).T, A))\n",
    "\n",
    "# Property 2\n",
    "print(\"Transpose of sum:\", np.allclose((A+B).T, A.T + B.T))\n",
    "\n",
    "# Property 3\n",
    "print(\"Transpose of product:\", np.allclose((A@B).T, B.T @ A.T))"
   ]
  }
 ],
 "metadata": {
  "kernelspec": {
   "display_name": "Python 3 (ipykernel)",
   "language": "python",
   "name": "python3"
  },
  "language_info": {
   "codemirror_mode": {
    "name": "ipython",
    "version": 3
   },
   "file_extension": ".py",
   "mimetype": "text/x-python",
   "name": "python",
   "nbconvert_exporter": "python",
   "pygments_lexer": "ipython3",
   "version": "3.12.4"
  }
 },
 "nbformat": 4,
 "nbformat_minor": 5
}
