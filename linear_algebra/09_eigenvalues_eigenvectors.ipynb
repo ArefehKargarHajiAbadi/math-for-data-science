{
 "cells": [
  {
   "cell_type": "markdown",
   "id": "b4acc1fb-ab22-469f-b4c2-049228d52c94",
   "metadata": {},
   "source": [
    "# 09_eigenvalues_eigenvectors\n",
    "##  Learning Objectives\r\n",
    "- Understand what **eigenvalues** and **eigenvectors** are.\r\n",
    "- Learn how to compute them for matrices.\r\n",
    "- Explore **symmetric matrices** and their special properties.\r\n",
    "- See **applications**, particularly in **PCA** for Data Science.\r\n",
    "\r\n",
    "---"
   ]
  },
  {
   "cell_type": "markdown",
   "id": "23187bda-fb8f-4760-abef-c6cd2d348bfa",
   "metadata": {},
   "source": [
    "## Table of Contents \n",
    "1. [eigenvalues and eigenvectors](#eign)\n",
    "   - [Characteristic Equation](#CharacteristicEquation)\n",
    "   - [Python Example]\n",
    "2. [Symmetric Matrices](#SymmetricMatrices)\n",
    "3. [Applications](#Applications)\n",
    "   - [Principal Component Analysis (PCA)]\n",
    "   - [Data Compression](DataCompression)"
   ]
  },
  {
   "cell_type": "markdown",
   "id": "87c806dd-aec7-4888-ac39-9ac61923d5f8",
   "metadata": {},
   "source": [
    "### 1. eigenvalues and eigenvectors<a name='eign'></a>(#eign)\n",
    "or a square matrix \\(A\\), a vector \\(v \\neq 0\\) is an **eigenvector** if:\n",
    "\n",
    "$$\n",
    "A \\mathbf{v} = \\lambda \\mathbf{v}\n",
    "$$\n",
    "\n",
    "Where:\n",
    "-  $ \\lambda $ = eigenvalue (scalar)\n",
    "- $\\mathbf{v}$ = eigenvector (direction unchanged by A)\n",
    "\n",
    "---\n",
    "#### Characteristic Equation<a name='CharacteristicEquation'></a>\n",
    "Eigenvalues are found by solving:\n",
    "\n",
    "$$\n",
    "\\det(A - \\lambda I) = 0\n",
    "$$\n",
    "\n",
    "- $I$ = identity matrix  \n",
    "- Solve for $\\lambda$ → gives all eigenvalues  \n",
    "- Then solve $ (A - \\lambda I)v = 0 $ for eigenvectors\n",
    "\n",
    "---\n",
    "#### Python Example:"
   ]
  },
  {
   "cell_type": "code",
   "execution_count": 16,
   "id": "47adf2eb-0509-4ac9-b9ad-d01d67bb5442",
   "metadata": {},
   "outputs": [
    {
     "name": "stdout",
     "output_type": "stream",
     "text": [
      "Eigenvalues: [5. 2.]\n",
      "Eigenvectors:\n",
      " [[ 0.89442719 -0.70710678]\n",
      " [ 0.4472136   0.70710678]]\n"
     ]
    }
   ],
   "source": [
    "import numpy as np\n",
    "A = np.array([[4, 2],\n",
    "             [1, 3]])\n",
    "#Compute eigenvalues and eigenvectors\n",
    "eigvals, eigvecs = np.linalg.eig(A)\n",
    "\n",
    "print(\"Eigenvalues:\", eigvals)\n",
    "print(\"Eigenvectors:\\n\", eigvecs)"
   ]
  },
  {
   "cell_type": "markdown",
   "id": "fff5aac2-fed5-447c-927e-af5c56fd13cf",
   "metadata": {},
   "source": [
    "### 2. Symmetric Matrices<a name='SymmetricMatrices'></a>\n",
    "If $A = A^T$ (symmetric):\n",
    "\n",
    "- All eigenvalues are real\n",
    "\n",
    "- Eigenvectors are orthogonal\n",
    "\n",
    "- Useful in PCA, SVD, and covariance matrices"
   ]
  },
  {
   "cell_type": "code",
   "execution_count": 21,
   "id": "4e3d0a2d-906c-4ee7-9c30-81835d11db9b",
   "metadata": {},
   "outputs": [
    {
     "name": "stdout",
     "output_type": "stream",
     "text": [
      "Eigenvalues: [3. 1.]\n",
      "Eigenvectors:\n",
      " [[ 0.70710678 -0.70710678]\n",
      " [ 0.70710678  0.70710678]]\n"
     ]
    }
   ],
   "source": [
    "B = np.array([[2, 1],\n",
    "              [1, 2]])\n",
    "\n",
    "eigvals, eigvecs = np.linalg.eig(B)\n",
    "print(\"Eigenvalues:\", eigvals)\n",
    "print(\"Eigenvectors:\\n\", eigvecs)\n",
    "# eigenvectors are perpendicular to each other."
   ]
  },
  {
   "cell_type": "markdown",
   "id": "48358596-6ad1-4695-b87c-e8287d410226",
   "metadata": {},
   "source": [
    "### 3. Applications<a name='Applications'></a>\n",
    "\n",
    "#### Principal Component Analysis (PCA)<a name='PCA'></a>\n",
    "\n",
    "PCA finds **directions of maximum variance** in the data:\r\n",
    "\r\n",
    "1. Center the data:  \r\n",
    "$$\r\n",
    "X_{\\text{centered}} = X - \\bar{X}\r\n",
    "$$\r\n",
    "\r\n",
    "2. Compute covariance matrix:  \r\n",
    "$$\r\n",
    "C = \\frac{1}{n-1} X_{\\text{centered}}^T X_{\\text{centered}}\r\n",
    "$$\r\n",
    "\r\n",
    "3. Compute **eigenvalues and eigenvectors** of $C$:\r\n",
    "$$\r\n",
    "C v_i = \\lambda_i v_i\r\n",
    "$$\r\n",
    "\r\n",
    "- $v_i$ = principal component direction  \r\n",
    "- $\\lambda_i$ = variance along that direction  \r\n",
    "\r\n",
    "4. Project data onto top-k components:\r\n",
    "$$\r\n",
    "Y = X_{\\text{centered}} V_k\r\n",
    "$$\r\n",
    "Where $V_k$ contains tpression](DataCompression)"
   ]
  },
  {
   "cell_type": "code",
   "execution_count": 28,
   "id": "b84d35f2-fcae-4fcf-9329-ba06f93ebbce",
   "metadata": {},
   "outputs": [
    {
     "name": "stdout",
     "output_type": "stream",
     "text": [
      "Principal Components (Eigenvectors):\n",
      " [[-0.72474155 -0.68902082]\n",
      " [-0.68902082  0.72474155]]\n",
      "Explained Variance (Eigenvalues):\n",
      " [1.73707382 0.05392618]\n",
      "Projected Data:\n",
      " [[-0.44362444 -0.20099093]\n",
      " [ 2.17719404 -0.05500992]\n",
      " [-0.57071239  0.36808609]\n",
      " [ 0.12902465  0.06747325]\n",
      " [-1.29188186 -0.17955849]]\n"
     ]
    }
   ],
   "source": [
    "import numpy as np\n",
    "from sklearn.decomposition import PCA\n",
    "import matplotlib.pyplot as plt\n",
    "\n",
    "# Sample 2D dataset\n",
    "X = np.array([[2.5, 2.4],\n",
    "              [0.5, 0.7],\n",
    "              [2.2, 2.9],\n",
    "              [1.9, 2.2],\n",
    "              [3.1, 3.0]])\n",
    "\n",
    "# Center the data\n",
    "X_centered = X - X.mean(axis=0)\n",
    "\n",
    "# PCA using scikit-learn\n",
    "pca = PCA(n_components=2)\n",
    "pca.fit(X_centered)\n",
    "\n",
    "print(\"Principal Components (Eigenvectors):\\n\", pca.components_)\n",
    "print(\"Explained Variance (Eigenvalues):\\n\", pca.explained_variance_)\n",
    "\n",
    "# Transform data to principal component space\n",
    "X_pca = pca.transform(X_centered)\n",
    "print(\"Projected Data:\\n\", X_pca)"
   ]
  },
  {
   "cell_type": "markdown",
   "id": "763e7d9a-d2be-4b33-bc29-b005202bab53",
   "metadata": {},
   "source": [
    "#### Data Compression<a name='DataCompression'></a>\n",
    "Data compression using PCA involves:\r\n",
    "\r\n",
    "1. Compute **principal components** (eigenvectors of covariance matrix).  \r\n",
    "2. Select top-$k$ components capturing most variance.  \r\n",
    "3. Project data onto top-$k$ components:  \r\n",
    "\r\n",
    "$$\r\n",
    "Y = X_{\\text{centered}} V_k\r\n",
    "$$\r\n",
    "\r\n",
    "- $X_{\\text{centered}}$ = centered original data  \r\n",
    "- $V_k$ = matrix of top-$k$ eigenvectors  \r\n",
    "\r\n",
    "4. (Optional) Reconstruct approximate data in original space:\r\n",
    "\r\n",
    "$$\r\n",
    "X_{\\text{approx}} = Y V_k^T + \\bar{X}\r\n",
    "$$\r\n",
    "\r\n",
    "- Preserves maximum variance in reduced dimensions\r\n",
    "- Useful for **compression, noise reduction, and visualization**\r\n",
    "\r\n",
    "---"
   ]
  },
  {
   "cell_type": "code",
   "execution_count": 31,
   "id": "db7cb5a8-5570-429c-b985-3b3b8d9c6310",
   "metadata": {},
   "outputs": [
    {
     "name": "stdout",
     "output_type": "stream",
     "text": [
      "Compressed Data (1D):\n",
      " [[-0.44362444]\n",
      " [ 2.17719404]\n",
      " [-0.57071239]\n",
      " [ 0.12902465]\n",
      " [-1.29188186]]\n",
      "Reconstructed Data:\n",
      " [[2.36151307 2.54566648]\n",
      " [0.46209702 0.73986797]\n",
      " [2.45361898 2.63323272]\n",
      " [1.94649048 2.15109933]\n",
      " [2.97628046 3.1301335 ]]\n"
     ]
    }
   ],
   "source": [
    "import numpy as np\n",
    "from sklearn.decomposition import PCA\n",
    "import matplotlib.pyplot as plt\n",
    "\n",
    "# Sample 2D dataset\n",
    "X = np.array([[2.5, 2.4],\n",
    "              [0.5, 0.7],\n",
    "              [2.2, 2.9],\n",
    "              [1.9, 2.2],\n",
    "              [3.1, 3.0]])\n",
    "\n",
    "# Center the data\n",
    "X_centered = X - X.mean(axis=0)\n",
    "\n",
    "# Fit PCA, keep 1 component (compress to 1D)\n",
    "pca = PCA(n_components=1)\n",
    "X_compressed = pca.fit_transform(X_centered)\n",
    "\n",
    "# Reconstruct approximate data\n",
    "X_approx = pca.inverse_transform(X_compressed) + X.mean(axis=0)\n",
    "\n",
    "# Print results\n",
    "print(\"Compressed Data (1D):\\n\", X_compressed)\n",
    "print(\"Reconstructed Data:\\n\", X_approx)"
   ]
  },
  {
   "cell_type": "code",
   "execution_count": 33,
   "id": "3383ea77-e990-4147-aec9-741df2183b99",
   "metadata": {},
   "outputs": [
    {
     "data": {
      "image/png": "[encoded data removed]",
      "text/plain": [
       "<Figure size 600x600 with 1 Axes>"
      ]
     },
     "metadata": {},
     "output_type": "display_data"
    }
   ],
   "source": [
    "plt.figure(figsize=(6,6))\n",
    "plt.scatter(X[:,0], X[:,1], color='blue', label='Original Data')\n",
    "plt.scatter(X_approx[:,0], X_approx[:,1], color='red', marker='x', label='Compressed/Reconstructed')\n",
    "for i in range(len(X)):\n",
    "    plt.plot([X[i,0], X_approx[i,0]], [X[i,1], X_approx[i,1]], 'k--', linewidth=0.7)\n",
    "\n",
    "plt.xlabel('X1')\n",
    "plt.ylabel('X2')\n",
    "plt.title('PCA Data Compression: 2D → 1D')\n",
    "plt.grid(True)\n",
    "plt.axis('equal')\n",
    "plt.legend()\n",
    "plt.show()\n"
   ]
  },
  {
   "cell_type": "code",
   "execution_count": null,
   "id": "b93d4a16-d885-408f-a747-13040b99b61b",
   "metadata": {},
   "outputs": [],
   "source": []
  }
 ],
 "metadata": {
  "kernelspec": {
   "display_name": "Python 3 (ipykernel)",
   "language": "python",
   "name": "python3"
  },
  "language_info": {
   "codemirror_mode": {
    "name": "ipython",
    "version": 3
   },
   "file_extension": ".py",
   "mimetype": "text/x-python",
   "name": "python",
   "nbconvert_exporter": "python",
   "pygments_lexer": "ipython3",
   "version": "3.12.4"
  }
 },
 "nbformat": 4,
 "nbformat_minor": 5
}
