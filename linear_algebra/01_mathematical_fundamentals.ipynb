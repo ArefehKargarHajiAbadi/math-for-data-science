{
 "cells": [
  {
   "cell_type": "markdown",
   "id": "0663559d-4532-4064-a53b-3e3aa8569b35",
   "metadata": {},
   "source": [
    "# Table of Contents\n",
    "1.[Vectors](#vector)\n",
    "- [Definition and Basics](#vector-basics)\n",
    "- [Basic Vector Operations](#vector-operations)\n",
    "- [Vector Operations in NumPy](#code)\n",
    "- [Example Script](#examplev)\n",
    "\n",
    "2.[Matrix](#Matrix)\n",
    "- [Definition and Basics](#basicm)\n",
    "- [Basic Vector Operations](#matrix-operations)\n",
    "- [Vector Operations in NumPy](#codeM)\n",
    "- [Example Script](#exampleM)\n",
    "\n",
    "3.[Combined Examples](#EX)\n",
    "- [Example 1:Feature Vectors and Dot Product (Cosine Similarity)](#EX1)\n",
    "- [Example 2:Dataset as a Matrix](#EX2)\n",
    "- [Example 3:Linear Regression with Matrices](#EX3)\n",
    "- [Example 4:Covariance Matrix (Feature Relationships)](#EX4)\n",
    "- [Example 5:PCA (Principal Component Analysis) via Eigenvectors](#EX5)"
   ]
  },
  {
   "cell_type": "markdown",
   "id": "701a7f52-2ad2-4568-a67c-0d429f2630c9",
   "metadata": {},
   "source": [
    "## Vector <a name='vector'></a>\n",
    "A vector is **an array of numbers with direction and magnitude.**<a name=\"vector-basics\"></a>\n",
    "\n",
    "In data science, vectors can represent:\n",
    "- Feature vectors (data points)\n",
    "- Positions in space\n",
    "- Weights/parameters in models\n"
   ]
  },
  {
   "cell_type": "code",
   "execution_count": 186,
   "id": "af2b0ea6-270e-44be-9845-79a01ada01e8",
   "metadata": {},
   "outputs": [],
   "source": [
    "import numpy as np\n",
    "\n",
    "v = np.array([3,4]) #2D vector\n",
    "u = np.array([1,2,3]) #3D vector\n"
   ]
  },
  {
   "cell_type": "markdown",
   "id": "7df9b544-5601-40f4-8905-9cb3ec7d39ab",
   "metadata": {},
   "source": [
    "### Basic Vector Operations<a name=\"vector-operations\"></a>\n",
    "- **1.Addition and Subtraction**<br>\n",
    "  $a+b=[a1​+b1​,a2​+b2​,…]$\n",
    "- **2.Scalar Multiplication**<br>\n",
    "     $k⋅v=[kv1​,kv2​,…]$\n",
    "- **3.Dot Product (Inner Product)** <br>\n",
    "    $u.v = \\Sigma u_i v_i$\n",
    "- **4.Norm (Magnitude)** <br>\n",
    "    $||v|| = \\sqrt(v_1 ^2 + v_2 ^2+...)$\n",
    "- **5.Projection of a vector onto another**<br>\n",
    "    $proj_u(v) = \\frac{u.v}{v.v}v$\n",
    "\n",
    "<a name='code'></a>"
   ]
  },
  {
   "cell_type": "code",
   "execution_count": 227,
   "id": "78f3dcbe-5387-42a6-b6e3-32faf9138b60",
   "metadata": {},
   "outputs": [],
   "source": [
    "import numpy as np\n",
    "def add(u, v):\n",
    "    \"\"\"Add two vectors\"\"\"\n",
    "    return np.array(u) + np.array(v)\n",
    "    \n",
    "def subtract(u, v):\n",
    "    \"\"\"Subtract two vectors\"\"\"\n",
    "    return np.array(u) - np.array(v)\n",
    "\n",
    "def scalar_multiply(k, v):\n",
    "    \"\"\"Multiply vector by scalar\"\"\"\n",
    "    return k * np.array(v)\n",
    "\n",
    "def dot(u,v):\n",
    "    \"\"\"Dot product of two vectors\"\"\"\n",
    "    return np.dot(u,v)\n",
    "\n",
    "def norm(v):\n",
    "    \"\"\"L2 norm (magnitude) of a vector\"\"\"\n",
    "    return np.linalg.norm(v)\n",
    "\n",
    "def projection(u, v):\n",
    "    u = np.array(u)\n",
    "    v = np.array(v)\n",
    "    return (np.dot(u, v) / np.dot(v, v)) * v\n"
   ]
  },
  {
   "cell_type": "markdown",
   "id": "712cb0b6-8165-4385-9f76-ec6ce7b157c8",
   "metadata": {},
   "source": [
    "<a name='example_v'></a>"
   ]
  },
  {
   "cell_type": "code",
   "execution_count": 230,
   "id": "2d629d3e-be45-47f4-8819-f8d8bd5f709c",
   "metadata": {},
   "outputs": [
    {
     "name": "stdout",
     "output_type": "stream",
     "text": [
      "u + v = [5 7 9]\n",
      "u - v = [-3 -3 -3]\n",
      "2 * u = [2 4 6]\n",
      "u . v = 32\n",
      "||v|| = 8.774964387392123\n",
      "proj_v(u) = [1.66233766 2.07792208 2.49350649]\n"
     ]
    }
   ],
   "source": [
    "#Example Script\n",
    "u = [1, 2, 3]\n",
    "v = [4, 5, 6]\n",
    "\n",
    "print(\"u + v =\", add(u, v))\n",
    "print(\"u - v =\", subtract(u, v))\n",
    "print(\"2 * u =\", scalar_multiply(2, u))\n",
    "print(\"u . v =\", dot(u, v))\n",
    "print(\"||v|| =\", norm(v))\n",
    "print(\"proj_v(u) =\", projection(u, v))"
   ]
  },
  {
   "cell_type": "markdown",
   "id": "6885f61a-ae32-424a-934f-e61256d7459d",
   "metadata": {},
   "source": [
    "<a name='Matrix'></a>\n",
    "## Matrix\n",
    "A matrix is a 2D array of numbers arranged in rows and columns.<br>\n",
    "\n",
    "Notation:\n",
    "$𝐴∈𝑅^{𝑚×𝑛}$<br>\n",
    "means A has m rows and n columns.\n",
    "\n",
    "In data science, **matrices** are everywhere:\n",
    "\n",
    "- Dataset: rows = samples, columns = features\n",
    "\n",
    "- Transformations in linear algebra\n",
    "\n",
    "- Weight matrices in neural networks\n",
    "\n"
   ]
  },
  {
   "cell_type": "code",
   "execution_count": 243,
   "id": "33487997-d2ec-4cfb-a257-2e653edd930f",
   "metadata": {},
   "outputs": [],
   "source": [
    "import numpy as np\n",
    "A = np.array([[1,2],\n",
    "              [3,4]])\n",
    "B = np.array([[5,6],\n",
    "             [7,8]])"
   ]
  },
  {
   "cell_type": "markdown",
   "id": "e6388b78-07de-4071-8bfd-32a763b69a41",
   "metadata": {},
   "source": [
    "### Basic Matrix Operations<a name='matrix-operations'></a>\n",
    "\n",
    "- **1.Addition & Subtraction**<br>\n",
    "  Combine or compare matrices element-wise.<br>\n",
    "  $C_{ij​}=A_{ij}​+B_{ij}​$\n",
    "- **2.Scalar Multiplication**<br>\n",
    "    Scale a matrix by multiplying all its elements by a single number (scalar).<br>\n",
    "    Useful for changing magnitude or applying weights.<br>\n",
    "$k⋅A=[[ka_{11}​,ka_{12​}],…]$\n",
    "\n",
    "- **3.Matrix Multiplication**<br>\n",
    "Combine two matrices such that rows of the first interact with columns of the second.Encodes linear transformations and system interactions.<br>\n",
    "$C_{ij} = \\Sigma_k A_{ik}B_{kj}$\n",
    "- **4.Transpose**<br>\n",
    " Flip a matrix over its diagonal.Turns rows into columns and vice versa.Useful in linear algebra, projections, and covariance matrices.\n",
    "- **5.Determinant (square matrices only)**<br>\n",
    "A single number summarizing a square matrix.\n",
    "Indicates invertibility: if $det(A) != 0$, the matrix is invertible.<br>Measures \"volume scaling\" of the linear transformation.\n",
    "- **6.Inverse (if square and invertible)** <br>\n",
    "A matrix that “undoes” the effect of the original matrix.<br>\n",
    "For square $A$,$A.A^{-1} = I$, where $I$ is the identity.<br>\n",
    "Used in solving linear systems $Ax = b \\quad x = A^{-1}b$\n",
    "- **7.Identity Matrix**<br>\n",
    "  The neutral element in matrix multiplication.<br>\n",
    "Multiplying any matrix 𝐴 by I leaves A unchanged.\n",
    "Represents a “do-nothing” transformation.\n",
    "\n",
    "<a name='codeM'></a>"
   ]
  },
  {
   "cell_type": "code",
   "execution_count": 203,
   "id": "8dd95f3d-c63c-479a-964f-625497b9aa23",
   "metadata": {},
   "outputs": [],
   "source": [
    "# Addition & Subtraction\n",
    "C = A + B\n",
    "D = B - A"
   ]
  },
  {
   "cell_type": "code",
   "execution_count": 205,
   "id": "6afc82a9-359f-45cb-9467-7843d14eec89",
   "metadata": {},
   "outputs": [
    {
     "name": "stdout",
     "output_type": "stream",
     "text": [
      "[[2 4]\n",
      " [6 8]]\n"
     ]
    }
   ],
   "source": [
    "# Scalar Multiplication\n",
    "C = 2 * A\n",
    "print(C)"
   ]
  },
  {
   "cell_type": "code",
   "execution_count": 207,
   "id": "c457b89d-f42f-41b9-a682-18c3114bfa1c",
   "metadata": {},
   "outputs": [
    {
     "name": "stdout",
     "output_type": "stream",
     "text": [
      "[[19 22]\n",
      " [43 50]]\n"
     ]
    }
   ],
   "source": [
    "# Matrix Multiplication\n",
    "C = np.dot(A, B) # or A @ B\n",
    "print(C)"
   ]
  },
  {
   "cell_type": "code",
   "execution_count": 209,
   "id": "745f20e0-c51c-48ef-8cd8-570a4db76a41",
   "metadata": {},
   "outputs": [
    {
     "name": "stdout",
     "output_type": "stream",
     "text": [
      "[[1 3]\n",
      " [2 4]]\n"
     ]
    }
   ],
   "source": [
    "# Transpose\n",
    "AT = A.T\n",
    "print(AT)"
   ]
  },
  {
   "cell_type": "code",
   "execution_count": 211,
   "id": "fd57d636-60eb-4d7f-81c0-f6b768419f13",
   "metadata": {},
   "outputs": [
    {
     "name": "stdout",
     "output_type": "stream",
     "text": [
      "-2.0000000000000004\n"
     ]
    }
   ],
   "source": [
    "#Determinant\n",
    "detA = np.linalg.det(A)\n",
    "print(detA)"
   ]
  },
  {
   "cell_type": "code",
   "execution_count": 213,
   "id": "6ffb283c-37fe-429e-b0c4-401fd9ec35e2",
   "metadata": {},
   "outputs": [
    {
     "name": "stdout",
     "output_type": "stream",
     "text": [
      "[[-2.   1. ]\n",
      " [ 1.5 -0.5]]\n"
     ]
    }
   ],
   "source": [
    "# Inverse\n",
    "A_inv = np.linalg.inv(A)\n",
    "print(A_inv)"
   ]
  },
  {
   "cell_type": "code",
   "execution_count": 215,
   "id": "4f2581f8-3c52-4b0f-9feb-a2c10103d661",
   "metadata": {},
   "outputs": [
    {
     "name": "stdout",
     "output_type": "stream",
     "text": [
      "[[1. 0. 0.]\n",
      " [0. 1. 0.]\n",
      " [0. 0. 1.]]\n"
     ]
    }
   ],
   "source": [
    "#Identity Matrix\n",
    "I = np.eye(3)\n",
    "print(I)"
   ]
  },
  {
   "cell_type": "code",
   "execution_count": 217,
   "id": "9684fce1-d072-4a8d-a250-258792fc2123",
   "metadata": {},
   "outputs": [],
   "source": [
    "import numpy as np\n",
    "\n",
    "def add(A, B):\n",
    "    return np.array(A) + np.array(B)\n",
    "\n",
    "def subtract(A, B):\n",
    "    return np.array(A) - np.array(B)\n",
    "\n",
    "def scalar_multiply(k, A):\n",
    "    return k * np.array(A)\n",
    "\n",
    "def matmul(A, B):\n",
    "    return np.dot(A, B) # A @ B\n",
    "\n",
    "def transpose(A):\n",
    "    return np.array(A).T\n",
    "\n",
    "def determinant(A):\n",
    "    return np.linalg.det(A)\n",
    "\n",
    "def inverse(A):\n",
    "    return np.linalg.inv(A)\n",
    "\n",
    "def identity(n):\n",
    "    return np.eye(n)"
   ]
  },
  {
   "cell_type": "markdown",
   "id": "9c4fe60b-3e3a-4863-8cf0-3ba707577501",
   "metadata": {},
   "source": [
    "<a name='exampleM'></a>"
   ]
  },
  {
   "cell_type": "markdown",
   "id": "50d7982b-a2f3-4495-8bfb-eb8060001b21",
   "metadata": {},
   "source": [
    "<a name='example_m'></a>"
   ]
  },
  {
   "cell_type": "code",
   "execution_count": 252,
   "id": "3c1b9c95-c33d-4bf3-a56f-2aeda37d5d83",
   "metadata": {},
   "outputs": [
    {
     "name": "stdout",
     "output_type": "stream",
     "text": [
      "A + B =\n",
      " [[ 6  8]\n",
      " [10 12]]\n",
      "A - B =\n",
      " [[-4 -4]\n",
      " [-4 -4]]\n",
      "2 * A =\n",
      " [[2 4]\n",
      " [6 8]]\n",
      "A @ B =\n",
      " [[19 22]\n",
      " [43 50]]\n",
      "Transpose of A =\n",
      " [[1 3]\n",
      " [2 4]]\n",
      "Determinant of A = -2.0000000000000004\n",
      "Inverse of A =\n",
      " [[-2.   1. ]\n",
      " [ 1.5 -0.5]]\n",
      "Identity 3x3 =\n",
      " [[1. 0. 0.]\n",
      " [0. 1. 0.]\n",
      " [0. 0. 1.]]\n"
     ]
    }
   ],
   "source": [
    "# Example\n",
    "A = np.array([[1, 2],\n",
    "              [3, 4]])\n",
    "B = np.array([[5, 6],\n",
    "              [7, 8]])\n",
    "\n",
    "print(\"A + B =\\n\", add(A, B))\n",
    "print(\"A - B =\\n\", subtract(A, B))\n",
    "print(\"2 * A =\\n\", scalar_multiply(2, A))\n",
    "print(\"A @ B =\\n\", matmul(A, B))\n",
    "print(\"Transpose of A =\\n\", transpose(A))\n",
    "print(\"Determinant of A =\", determinant(A))\n",
    "print(\"Inverse of A =\\n\", inverse(A))\n",
    "print(\"Identity 3x3 =\\n\", identity(3))"
   ]
  },
  {
   "cell_type": "markdown",
   "id": "81e04e7e-1368-428f-882b-f4be45e3eacb",
   "metadata": {},
   "source": [
    "### Combined Examples <a name='EX'></a>\n"
   ]
  },
  {
   "cell_type": "markdown",
   "id": "2b223107-d4ee-499e-b751-a6770aa61e0e",
   "metadata": {},
   "source": [
    "#### Example 1 — Feature Vectors and Dot Product (Cosine Similarity) <a name='EX1'></a>\n",
    "When comparing two data samples (e.g., text embeddings, user profiles, images), we often measure similarity using the cosine of the angle between vectors:<br>\n",
    " cosine similarity  $= \\frac{a.b}{||a||||b||}$"
   ]
  },
  {
   "cell_type": "code",
   "execution_count": 326,
   "id": "e16d626a-30b9-40b5-83ba-3c9a38849cc3",
   "metadata": {},
   "outputs": [
    {
     "name": "stdout",
     "output_type": "stream",
     "text": [
      "Cosine similarity between users: 0.970\n"
     ]
    }
   ],
   "source": [
    "import numpy as np\n",
    "def cosine_similarity(a, b):\n",
    "    return np.dot(a, b) / (np.linalg.norm(a)*np.linalg.norm(b))\n",
    "\n",
    "# Example: user feature vectors\n",
    "user1 = np.array([4, 3, 5, 1])   # Ratings for 4 movies\n",
    "user2 = np.array([5, 2, 4, 1])\n",
    "\n",
    "similarity = cosine_similarity(user1, user2)\n",
    "print(f\"Cosine similarity between users: {similarity:.3f}\")"
   ]
  },
  {
   "cell_type": "markdown",
   "id": "aa942cfe-e15c-4d10-8473-698396ac6dc3",
   "metadata": {},
   "source": [
    "#### Example 2 — Dataset as a Matrix <a name='EX2'></a>\n",
    "\n",
    "A matrix is often your entire dataset, where:\n",
    "\n",
    "- Each row = one sample\n",
    "- Each column = one feature\n",
    "\n",
    "$$\n",
    "\\begin{array}{|c|c|c|}\n",
    "\\hline\n",
    "\\textbf{Height (cm)} & \\textbf{Weight (kg)} & \\textbf{Age (years)} \\\\\n",
    "\\hline\n",
    "170 & 65 & 22 \\\\\n",
    "160 & 55 & 20 \\\\\n",
    "180 & 80 & 25 \\\\\n",
    "\\hline\n",
    "\\end{array}\n",
    "$$\n",
    "$$\n",
    "X =\n",
    "\\begin{bmatrix}\n",
    "170 & 65 & 22 \\\\\n",
    "160 & 55 & 20 \\\\\n",
    "180 & 80 & 25\n",
    "\\end{bmatrix}\n",
    "$$\n",
    "\n",
    "Use case: preprocessing data before machine learning (normalization, standardization)."
   ]
  },
  {
   "cell_type": "code",
   "execution_count": 345,
   "id": "779eb145-bf87-439b-a401-b283bff8df77",
   "metadata": {},
   "outputs": [
    {
     "name": "stdout",
     "output_type": "stream",
     "text": [
      "Feature means: [170.          66.66666667  22.33333333]\n",
      "\n",
      "Centered data:\n",
      " [[  0.          -1.66666667  -0.33333333]\n",
      " [-10.         -11.66666667  -2.33333333]\n",
      " [ 10.          13.33333333   2.66666667]]\n"
     ]
    }
   ],
   "source": [
    "import numpy as np\n",
    "X = np.array([\n",
    "    [170, 65, 22],\n",
    "    [160, 55, 20],\n",
    "    [180, 80, 25]\n",
    "])\n",
    "\n",
    "# Mean of each feature\n",
    "mean_feature = np.mean(X, axis=0)\n",
    "print('Feature means:', mean_feature)\n",
    "\n",
    "# Center data (subtract mean)\n",
    "X_centered = X - mean_feature\n",
    "print(\"\\nCentered data:\\n\", X_centered)"
   ]
  },
  {
   "cell_type": "markdown",
   "id": "0282bf03-537f-4629-898b-e0cf98f64e0a",
   "metadata": {},
   "source": [
    "#### Example 3 — Linear Regression with Matrices <a name='EX3'></a>\n",
    "Linear regression solves:<br>\n",
    "    $y=X\\omega+\\epsilon$<br>\n",
    "The weights are estimated using:<br>\n",
    "$w = (X^TX)^{-1}X^Ty$<br>\n",
    "Use case: regression, trend analysis, ML model fundamentals."
   ]
  },
  {
   "cell_type": "code",
   "execution_count": 348,
   "id": "5bd20817-b010-4c42-a8a8-40d10649bb0b",
   "metadata": {},
   "outputs": [
    {
     "name": "stdout",
     "output_type": "stream",
     "text": [
      "Weights: [0.33333333 0.75      ]\n"
     ]
    }
   ],
   "source": [
    "# X: features (with bias term)\n",
    "X = np.array([\n",
    "    [1, 1],\n",
    "    [1, 2],\n",
    "    [1, 3]\n",
    "])  # bias + feature\n",
    "y = np.array([1, 2, 2.5])\n",
    "\n",
    "w = np.linalg.inv(X.T @ X) @ X.T @ y\n",
    "print(\"Weights:\", w)\n",
    "#slope = 0.75 , intercept = 0.3"
   ]
  },
  {
   "cell_type": "markdown",
   "id": "7172c6d0-aac8-4924-b8fd-2045a3c3fb44",
   "metadata": {},
   "source": [
    "#### Example 4 — Covariance Matrix (Feature Relationships) <a name='EX4'></a>\n",
    "The covariance matrix captures how features vary together — essential for PCA and feature selection.\n",
    "$Cov(x) = \\frac{1}{n-1}(X - \\bar{X})^T(X-\\bar{X})$"
   ]
  },
  {
   "cell_type": "code",
   "execution_count": 350,
   "id": "bc89223e-94a8-4b19-a840-356b41a5ab1b",
   "metadata": {},
   "outputs": [
    {
     "name": "stdout",
     "output_type": "stream",
     "text": [
      "Covariance matrix:\n",
      " [[100.         125.          25.        ]\n",
      " [125.         158.33333333  31.66666667]\n",
      " [ 25.          31.66666667   6.33333333]]\n"
     ]
    }
   ],
   "source": [
    "# basis Q3\n",
    "cov_matrix = np.cov(X_centered.T)\n",
    "print(\"Covariance matrix:\\n\", cov_matrix)"
   ]
  },
  {
   "cell_type": "markdown",
   "id": "5bbceb0d-f490-4455-9de2-eef906f59c13",
   "metadata": {},
   "source": [
    "#### Example 5 — PCA (Principal Component Analysis) via Eigenvectors <a name='EX5'></a>\n",
    "PCA finds directions (vectors) of maximum variance in your dataset.<br>\n",
    "$X_{proj} = XW$<br>\n",
    "where W are the eigenvectors of the covariance matrix.<br>\n",
    "Use case: dimensionality reduction, visualization, compression."
   ]
  },
  {
   "cell_type": "code",
   "execution_count": 361,
   "id": "ebf1ef7a-b63d-4871-a271-82d82919047c",
   "metadata": {},
   "outputs": [
    {
     "name": "stdout",
     "output_type": "stream",
     "text": [
      "Projected data on 1st principal component:\n",
      " [[ -1.3414816 ]\n",
      " [-15.53098131]\n",
      " [ 16.87246291]]\n"
     ]
    }
   ],
   "source": [
    "# Compute covariance matrix and eigen decomposition\n",
    "eig_vals, eig_vecs = np.linalg.eig(cov_matrix)\n",
    "\n",
    "# Sort by largest eigenvalue\n",
    "idx = np.argsort(eig_vals)[::-1]\n",
    "eig_vecs = eig_vecs[:, idx]\n",
    "\n",
    "\n",
    "# Project data onto first principal component\n",
    "X_pca = X_centered @ eig_vecs[:, :1]\n",
    "print(\"Projected data on 1st principal component:\\n\", X_pca)"
   ]
  },
  {
   "cell_type": "markdown",
   "id": "f39585f3-031e-4e59-9257-5fd98445a39c",
   "metadata": {},
   "source": [
    "#### Example 6 — Image as a Matrix\n",
    "\n",
    "Each grayscale image is a 2D matrix of pixel values.<br>\n",
    "Matrix operations like SVD (Singular Value Decomposition) can compress images.<br>\n",
    "Use case: image compression, noise reduction, latent feature extraction."
   ]
  },
  {
   "cell_type": "code",
   "execution_count": 367,
   "id": "0a6b9ee2-cdbc-4358-97a8-65071ef87b2b",
   "metadata": {},
   "outputs": [
    {
     "data": {
      "image/png": "[encoded data removed]",
      "text/plain": [
       "<Figure size 640x480 with 2 Axes>"
      ]
     },
     "metadata": {},
     "output_type": "display_data"
    }
   ],
   "source": [
    "from sklearn.datasets import load_digits\n",
    "import matplotlib.pyplot as plt\n",
    "\n",
    "digits = load_digits()\n",
    "img = digits.images[0]\n",
    "\n",
    "#SVD\n",
    "U, S, Vt = np.linalg.svd(img)\n",
    "k = 5\n",
    "approx = U[:,:k] @ np.diag(S[:k]) @ Vt[:k, :]\n",
    "\n",
    "plt.subplot(1,2,1)\n",
    "plt.imshow(img, cmap='gray')\n",
    "plt.title('Original')\n",
    "\n",
    "plt.subplot(1,2,2)\n",
    "plt.imshow(approx, cmap='gray')\n",
    "plt.title('Compressed k=5')\n",
    "plt.show()"
   ]
  }
 ],
 "metadata": {
  "kernelspec": {
   "display_name": "Python 3 (ipykernel)",
   "language": "python",
   "name": "python3"
  },
  "language_info": {
   "codemirror_mode": {
    "name": "ipython",
    "version": 3
   },
   "file_extension": ".py",
   "mimetype": "text/x-python",
   "name": "python",
   "nbconvert_exporter": "python",
   "pygments_lexer": "ipython3",
   "version": "3.12.4"
  }
 },
 "nbformat": 4,
 "nbformat_minor": 5
}
