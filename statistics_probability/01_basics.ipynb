{
 "cells": [
  {
   "cell_type": "markdown",
   "id": "0a0ccc8a-7a6c-4fb5-a797-9c178ffcb229",
   "metadata": {},
   "source": [
    "# Probability & Statistics Basics for Data Science\n",
    "**Statistics & Probability:** the science of collecting, analyzing, interpreting, and visualizing data.\n",
    "___\n",
    "## Learning Objectives\n",
    "- Understand basic probability concepts: random experiment, sample space, events  \n",
    "- Learn conditional probability, total probability theorem, and Bayes theorem  \n",
    "- Apply concepts to Python examples and simple visualizations  \n",
    "- Connect probability to ML concepts like classification and regression\n",
    "___\n",
    "i index."
   ]
  },
  {
   "cell_type": "markdown",
   "id": "44acd397-3b30-42d4-ac9d-b8b2d3604af6",
   "metadata": {},
   "source": [
    "## Table of content\n",
    "1. [Random Experiment](#RandomExperiment)\n",
    "2. [Sample Space](#SampleSpace)\n",
    "3. [Event](#Event)\n",
    "4. [Conditional Probability](#ConditionalProbability)\n",
    "5. [Total Probability Theorem](#TotalProbabilityTheorem)\n",
    "6. [Bayes Theorem](#BayesTheorem)\n",
    "7. [Independent Events](#IndependentEvents)\n",
    "8. [Applications in Data Science](#Applications)"
   ]
  },
  {
   "cell_type": "markdown",
   "id": "3bd996b9-fa7c-488b-9c54-3583ccce4c83",
   "metadata": {},
   "source": [
    "### 1. Random Experiment <a name='RandomExperiment'></a>\n",
    "**Definition:**  \n",
    "A **random experiment** is an experiment or process for which the outcome cannot be predicted with certainty.  \n",
    "\n",
    "**Examples:**\n",
    "- Tossing a coin → possible outcomes: {Heads, Tails}  \n",
    "- Rolling a dice → possible outcomes: {1,2,3,4,5,6}  \n",
    "- Drawing a card from a deck → 52 possible outcomes\n",
    "\n",
    "___\n",
    "### Python Simulation Example"
   ]
  },
  {
   "cell_type": "code",
   "execution_count": 30,
   "id": "403d8ad2-57a1-4afd-80f2-4e68bbe325a1",
   "metadata": {},
   "outputs": [
    {
     "name": "stdout",
     "output_type": "stream",
     "text": [
      "Coin toss results: ['Tails' 'Heads' 'Tails' 'Tails' 'Heads' 'Tails' 'Tails' 'Tails' 'Tails'\n",
      " 'Tails']\n",
      "Dice rolls: [2 5 2 6 6]\n"
     ]
    }
   ],
   "source": [
    "import numpy as np\n",
    "# Toss a coin 10 times\n",
    "outcomes = np.random.choice(['Heads','Tails'], size=10)\n",
    "print(\"Coin toss results:\", outcomes)\n",
    "\n",
    "#Roll a dice 5 times\n",
    "dice_rolls = np.random.randint(1, 7, size=5)\n",
    "print(\"Dice rolls:\", dice_rolls)"
   ]
  },
  {
   "cell_type": "markdown",
   "id": "11b2a168-4ff8-4b4e-91a2-4a4e22d548f8",
   "metadata": {},
   "source": [
    "### 2. Sample Space<a name='SampleSpace'>\n",
    "**Definition:**  \n",
    "The **sample space** is the set of all possible outcomes of a random experiment.\n",
    "\n",
    "**Examples:**  \n",
    "- Coin toss → {Heads, Tails}  \n",
    "- Dice roll → {1,2,3,4,5,6}  \n",
    "\n",
    "___\n",
    "### Python Example :"
   ]
  },
  {
   "cell_type": "code",
   "execution_count": 40,
   "id": "6280439d-1a11-49ad-88f0-951a3338a7c2",
   "metadata": {},
   "outputs": [
    {
     "name": "stdout",
     "output_type": "stream",
     "text": [
      "Coin toss results: ['Tails' 'Heads' 'Tails' 'Tails' 'Tails' 'Tails' 'Heads' 'Heads' 'Tails'\n",
      " 'Tails']\n",
      "Dice roll results: [3 6 5 6 2]\n"
     ]
    }
   ],
   "source": [
    "# Coin toss simultion\n",
    "import numpy as np\n",
    "sample_space_coin = ['Heads', 'Tails']\n",
    "results = np.random.choice(sample_space_coin, size=10)\n",
    "print(\"Coin toss results:\", results)\n",
    "\n",
    "# Dice roll simulation\n",
    "sample_space_dice = np.arange(1, 7)\n",
    "dice_results = np.random.choice(sample_space_dice, size=5)\n",
    "print(\"Dice roll results:\", dice_results)"
   ]
  },
  {
   "cell_type": "code",
   "execution_count": null,
   "id": "01cb9ba3-062d-407a-8099-e8722a99187c",
   "metadata": {},
   "outputs": [],
   "source": []
  },
  {
   "cell_type": "markdown",
   "id": "a4fac5e3-29c7-444b-98f9-d86982a49ebb",
   "metadata": {},
   "source": [
    "## 3. Event<a name='Event'></a>\n",
    "**Definition:**  \n",
    "An **event** is a subset of the sample space. It represents one or more outcomes of a random experiment.\n",
    "\n",
    "**Examples:**  \n",
    "- Tossing a dice, event “rolling an even number” → {2, 4, 6}  \n",
    "- Tossing a coin, event “getting heads” → {Heads}  \n",
    "\n",
    "____\n",
    "### Python Example:"
   ]
  },
  {
   "cell_type": "code",
   "execution_count": 47,
   "id": "eea803df-2bcd-43b9-a0d3-c7a6c1952669",
   "metadata": {},
   "outputs": [
    {
     "name": "stdout",
     "output_type": "stream",
     "text": [
      "Event: Even numbers on dice: [2 4 6]\n",
      "Event: Getting Heads: ['Heads']\n"
     ]
    }
   ],
   "source": [
    "import numpy as np\n",
    "#Dice roll example\n",
    "sample_space = np.arange(1, 7)\n",
    "event_even = sample_space[sample_space % 2 == 0]\n",
    "print(\"Event: Even numbers on dice:\", event_even)\n",
    "\n",
    "# Coin toss example\n",
    "sample_space_coin = ['Heads', 'Tails']\n",
    "event_heads = ['Heads']\n",
    "print(\"Event: Getting Heads:\", event_heads)"
   ]
  },
  {
   "cell_type": "markdown",
   "id": "50bd7849-9183-4bcb-b379-c029376e4f68",
   "metadata": {},
   "source": [
    "## 4. Conditional Probability<a name='ConditionalProbability'></a>\n",
    "**Definition:**  \n",
    "Conditional probability is the probability of an event **A** occurring given that another event **B** has occurred:\n",
    "\n",
    "$$\n",
    "P(A|B) = \\frac{P(A \\cap B)}{P(B)}, \\quad P(B) \\neq 0\n",
    "$$\n",
    "\n",
    "**Examples:**  \n",
    "- Probability of drawing an Ace given that a red card is drawn.  \n",
    "- Probability of passing an exam given that a student studied >5 hours.\n",
    "\n",
    "---\n",
    "\n",
    "### Python Example\n"
   ]
  },
  {
   "cell_type": "code",
   "execution_count": 55,
   "id": "cbd06e19-9d84-4336-b9f4-e957f08519ea",
   "metadata": {},
   "outputs": [
    {
     "name": "stdout",
     "output_type": "stream",
     "text": [
      "P(A|B) = 0.5\n"
     ]
    }
   ],
   "source": [
    "# Simple conditional probability example\n",
    "P_A_and_B = 0.1  # P(A and B)\n",
    "P_B = 0.2         # P(B)\n",
    "P_A_given_B = P_A_and_B / P_B\n",
    "print(\"P(A|B) =\", P_A_given_B)"
   ]
  },
  {
   "cell_type": "markdown",
   "id": "9447e8d8-6fd7-401a-a692-1fe18a1e7967",
   "metadata": {},
   "source": [
    "## 5. Total Probability Theorem <a name='TotalProbabilityTheorem'></a>\n",
    "**Definition:**  \n",
    "If $B_1, B_2, \\dots, B_n$ are mutually exclusive events that **partition the sample space**, then for any event $A$:\n",
    "\n",
    "$$\n",
    "P(A) = \\sum_{i=1}^{n} P(A|B_i) \\cdot P(B_i)\n",
    "$$\n",
    "\n",
    "**Example:**  \n",
    "- Probability of a randomly chosen student passing an exam given different study groups.\n",
    "\n",
    "---\n",
    "\n",
    "### Python Example:"
   ]
  },
  {
   "cell_type": "code",
   "execution_count": 58,
   "id": "c5d29054-d425-409e-8422-15bf0958d1fb",
   "metadata": {},
   "outputs": [
    {
     "name": "stdout",
     "output_type": "stream",
     "text": [
      "Total probability of passing: 0.6799999999999999\n"
     ]
    }
   ],
   "source": [
    "# Total Probability Theorem example\n",
    "# Suppose two groups of students: Group1 (60%), Group2 (40%)\n",
    "# Probability of passing: Group1 = 0.8, Group2 = 0.5\n",
    "\n",
    "P_B1 = 0.6\n",
    "P_B2 = 0.4\n",
    "P_A_given_B1 = 0.8\n",
    "P_A_given_B2 = 0.5\n",
    "\n",
    "# Total probability of passing\n",
    "P_A = P_A_given_B1*P_B1 + P_A_given_B2*P_B2\n",
    "print(\"Total probability of passing:\", P_A)"
   ]
  },
  {
   "cell_type": "markdown",
   "id": "dc73529e-ae87-41af-9ecc-2a012d167c5b",
   "metadata": {},
   "source": [
    "## 6. Bayes Theorem <a name='BayesTheorem'></a>\n",
    "**Definition:**  \r\n",
    "Bayes Theorem allows you to **update probabilities** based on new evidence:\r\n",
    "\r\n",
    "$$\r\n",
    "P(B_i|A) = \\frac{P(A|B_i) \\cdot P(B_i)}{\\sum_{j=1}^{n} P(A|B_j) \\cdot P(B_j)}\r\n",
    "$$\r\n",
    "\r\n",
    "**Example:**  \r\n",
    "- Probability a patient has a disease given a positive test result.  \r\n",
    "- Email spam detection using conditional probabilit\n",
    "### Python Example:ies.\r\n",
    "\r\n",
    "---\n"
   ]
  },
  {
   "cell_type": "code",
   "execution_count": 64,
   "id": "0398dc06-9462-4969-a4b1-1e2f6309e006",
   "metadata": {},
   "outputs": [
    {
     "name": "stdout",
     "output_type": "stream",
     "text": [
      "Probability of being sick given positive test: 0.16101694915254236\n"
     ]
    }
   ],
   "source": [
    "# Bayes Theorem example\n",
    "# Two groups: Sick (1%) and Healthy (99%), test accuracy: P(Pos|Sick)=0.95, P(Pos|Healthy)=0.05\n",
    "\n",
    "P_Sick = 0.01\n",
    "P_Healthy = 0.99\n",
    "P_Pos_given_Sick = 0.95\n",
    "P_Pos_given_Healthy = 0.05\n",
    "\n",
    "# Apply Bayes Theorem: P(Sick | Positive Test)\n",
    "P_Sick_given_Pos = (P_Pos_given_Sick * P_Sick) / (\n",
    "    P_Pos_given_Sick*P_Sick + P_Pos_given_Healthy*P_Healthy\n",
    ")\n",
    "print(\"Probability of being sick given positive test:\", P_Sick_given_Pos)"
   ]
  },
  {
   "cell_type": "markdown",
   "id": "29a23ab4-7df4-498c-9ea9-479ee862d068",
   "metadata": {},
   "source": [
    "## 7. Independent Events <a name='IndependentEvents'></a>\n",
    "**Definition:**  \n",
    "Two events **A** and **B** are independent if the occurrence of one does **not affect** the probability of the other:\n",
    "\n",
    "$$\n",
    "P(A \\cap B) = P(A) \\cdot P(B)\n",
    "$$\n",
    "\n",
    "**Examples:**  \n",
    "- Tossing two coins → getting Heads on the first coin is independent of the second coin  \n",
    "- Rolling two dice → outcome of die 1 does not affect outcome of die 2\n",
    "___\n",
    "### Python Example:"
   ]
  },
  {
   "cell_type": "code",
   "execution_count": 71,
   "id": "14f2453d-4acc-410e-85be-1418dacd7d7f",
   "metadata": {},
   "outputs": [
    {
     "name": "stdout",
     "output_type": "stream",
     "text": [
      "P(A): 0.49\n",
      "P(B): 0.526\n",
      "P(A and B): 0.259\n",
      "P(A)*P(B): 0.25774\n"
     ]
    }
   ],
   "source": [
    "import numpy as np\n",
    "\n",
    "# Simulate two independent coin tosses\n",
    "np.random.seed(42)\n",
    "coin1 = np.random.choice(['Heads', 'Tails'], size=1000)\n",
    "coin2 = np.random.choice(['Heads', 'Tails'], size=1000)\n",
    "\n",
    "# Probability of Heads on coin1\n",
    "P_A = np.mean(coin1 == 'Heads')\n",
    "\n",
    "# Probability of Heads on coin2\n",
    "P_B = np.mean(coin2 == 'Heads')\n",
    "\n",
    "# Probability of Heads on both coins\n",
    "P_A_and_B = np.mean((coin1 == 'Heads') & (coin2 == 'Heads'))\n",
    "\n",
    "print(\"P(A):\", P_A)\n",
    "print(\"P(B):\", P_B)\n",
    "print(\"P(A and B):\", P_A_and_B)\n",
    "print(\"P(A)*P(B):\", P_A*P_B)"
   ]
  },
  {
   "cell_type": "markdown",
   "id": "bf500d75-2e62-4ae7-9291-87e5e4d1763f",
   "metadata": {},
   "source": [
    "## 8.Applications in Data Science <a name='Applications'></a>\n",
    "\n",
    "**Overview:**  \n",
    "Probability and statistics form the foundation of many **data science and machine learning techniques**. Understanding these concepts allows you to make **informed decisions and predictions** from data.\n",
    "\n",
    "---\n",
    "\n",
    "### Key Applications:\n",
    "\n",
    "1. **Classification**\n",
    "   - Spam detection, medical diagnosis, image recognition\n",
    "   - Uses probability distributions, Bayes theorem, and logistic regression\n",
    "\n",
    "2. **Clustering**\n",
    "   - Customer segmentation, document clustering, anomaly detection\n",
    "   - Uses distance metrics and statistical similarity\n",
    "\n",
    "3. **Regression**\n",
    "   - Predicting numeric outcomes (house prices, stock prices)\n",
    "   - Uses statistical inference, least squares, and correlation\n",
    "\n",
    "4. **Naive Bayes Classifier**\n",
    "   - Text classification, sentiment analysis\n",
    "   - Direct application of conditional probability and Bayes theorem\n",
    "\n",
    "5. **Decision Trees & Random Forests**\n",
    "   - Classification & regression tasks\n",
    "   - Uses entropy, Gini index, and probability distributions\n",
    "\n",
    "6. **Hypothesis Testing & A/B Testing**\n",
    "   - Evaluate if observed differences are statistically significant\n",
    "   - Common in product decisions, marketing, and experiments\n",
    "\n",
    "---\n"
   ]
  },
  {
   "cell_type": "markdown",
   "id": "c9f62c5c-749f-4e4f-a38a-b3fb746da759",
   "metadata": {},
   "source": [
    "## Classification & Clustering: Statistical Perspective\n",
    "**Classification**\n",
    "- Goal: Assign a sample to a **predefined category/class**.\n",
    "- Uses **statistics** to model probability of class membership.\n",
    "- Example: Spam detection, disease prediction, image recognition.\n",
    "\n",
    "**Statistical foundation:**\n",
    "- **Naive Bayes classifier**: Uses conditional probability and Bayes theorem.\n",
    "- **Logistic regression**: Estimates probability using logistic function.\n",
    "- **Decision Trees**: Splits data based on information gain (entropy) or Gini index.\n",
    "### Python Example: Naive Bayes Classification"
   ]
  },
  {
   "cell_type": "code",
   "execution_count": 79,
   "id": "384c09e8-d9de-4644-834e-76b5615a034b",
   "metadata": {},
   "outputs": [
    {
     "name": "stdout",
     "output_type": "stream",
     "text": [
      "Accuracy: 0.9777777777777777\n"
     ]
    }
   ],
   "source": [
    "from sklearn.datasets import load_iris\n",
    "from sklearn.model_selection import train_test_split\n",
    "from sklearn.naive_bayes import GaussianNB\n",
    "from sklearn.metrics import accuracy_score\n",
    "\n",
    "# Load dataset\n",
    "iris = load_iris()\n",
    "X_train, X_test, y_train, y_test = train_test_split(\n",
    "    iris.data, iris.target, test_size=0.3, random_state=42\n",
    ")\n",
    "# Train Naive Bayes classifier\n",
    "nb = GaussianNB()\n",
    "nb.fit(X_train, y_train)\n",
    "y_pred = nb.predict(X_test)\n",
    "\n",
    "# Accuracy\n",
    "print(\"Accuracy:\", accuracy_score(y_test, y_pred))"
   ]
  },
  {
   "cell_type": "markdown",
   "id": "8ca98afb-b100-41dd-a831-8b24e5154418",
   "metadata": {},
   "source": [
    "## Clustering\n",
    "\n",
    "- Goal: Group samples with similar characteristics (unsupervised learning).\n",
    "- Uses statistical measures to find similarity/distance between points:\n",
    "- Euclidean distance\n",
    "- Mahalanobis distance\n",
    "- Cosine similarity\n",
    "- Example: Customer segmentation, image compression, document clustering\n",
    "\n",
    "### Python Example: K-Means Clustering"
   ]
  },
  {
   "cell_type": "code",
   "execution_count": 82,
   "id": "e57cfa39-c0dd-4c77-bf6a-4b735cfb0ef5",
   "metadata": {},
   "outputs": [
    {
     "name": "stderr",
     "output_type": "stream",
     "text": [
      "C:\\Users\\Surface Laptop 3\\anaconda3\\Lib\\site-packages\\sklearn\\cluster\\_kmeans.py:1446: UserWarning: KMeans is known to have a memory leak on Windows with MKL, when there are less chunks than available threads. You can avoid it by setting the environment variable OMP_NUM_THREADS=1.\n",
      "  warnings.warn(\n"
     ]
    },
    {
     "data": {
      "image/png": "[encoded data removed]",
      "text/plain": [
       "<Figure size 640x480 with 1 Axes>"
      ]
     },
     "metadata": {},
     "output_type": "display_data"
    }
   ],
   "source": [
    "from sklearn.datasets import make_blobs\n",
    "from sklearn.cluster import KMeans\n",
    "import matplotlib.pyplot as plt\n",
    "\n",
    "# Generate data\n",
    "X, y_true = make_blobs(n_samples=200, centers=3, cluster_std=1.0, random_state=42)\n",
    "\n",
    "# Fit K-Means\n",
    "kmeans = KMeans(n_clusters=3, random_state=42)\n",
    "y_kmeans = kmeans.fit_predict(X)\n",
    "\n",
    "# Plot clusters\n",
    "plt.scatter(X[:, 0], X[:, 1], c=y_kmeans, cmap='viridis', s=50)\n",
    "plt.scatter(kmeans.cluster_centers_[:, 0], kmeans.cluster_centers_[:, 1],\n",
    "            s=200, c='red', label='Centroids')\n",
    "plt.title(\"K-Means Clustering\")\n",
    "plt.legend()\n",
    "plt.show()\n"
   ]
  }
 ],
 "metadata": {
  "kernelspec": {
   "display_name": "Python 3 (ipykernel)",
   "language": "python",
   "name": "python3"
  },
  "language_info": {
   "codemirror_mode": {
    "name": "ipython",
    "version": 3
   },
   "file_extension": ".py",
   "mimetype": "text/x-python",
   "name": "python",
   "nbconvert_exporter": "python",
   "pygments_lexer": "ipython3",
   "version": "3.12.4"
  }
 },
 "nbformat": 4,
 "nbformat_minor": 5
}
