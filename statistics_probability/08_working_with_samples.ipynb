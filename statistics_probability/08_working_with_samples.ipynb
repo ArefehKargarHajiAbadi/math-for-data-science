{
 "cells": [
  {
   "cell_type": "markdown",
   "id": "99b84525-a49a-4dfa-9721-970a33f3c8fd",
   "metadata": {},
   "source": [
    "# Working with Samples\n",
    "## Table of Contents\r\n",
    "\r\n",
    "1. [2D Histogram](#Histogram2D)  \r\n",
    "2. [Sample Mean](#SampleMean)  \r\n",
    "3. [Sample Variance](#SampleVariance)  \r\n",
    "4. [Sample Correlation](#SampleCorrelation)\r\n",
    "\r\n",
    "---"
   ]
  },
  {
   "cell_type": "markdown",
   "id": "fda0dd6f-7f03-4f95-b2da-4b9c51fd4f7e",
   "metadata": {},
   "source": [
    "## 1. 2D Histogram <a name=\"Histogram2D\"></a>\n",
    "\n",
    "- **Definition:** A 2D histogram shows the **joint frequency** of two variables in bins.  \n",
    "- Useful for **visualizing joint distributions** of samples.\n"
   ]
  },
  {
   "cell_type": "code",
   "execution_count": 5,
   "id": "c40378b1-ddd9-43c0-ba3c-2a87e6e06da9",
   "metadata": {},
   "outputs": [
    {
     "data": {
      "image/png": "[encoded data removed]",
      "text/plain": [
       "<Figure size 640x480 with 2 Axes>"
      ]
     },
     "metadata": {},
     "output_type": "display_data"
    }
   ],
   "source": [
    "import numpy as np\n",
    "import matplotlib.pyplot as plt\n",
    "\n",
    "# Sample data\n",
    "X = np.random.normal(0,1,1000)\n",
    "Y = 0.5*X + np.random.normal(0,1,1000)\n",
    "\n",
    "plt.hist2d(X, Y, bins=30, cmap='Blues')\n",
    "plt.colorbar(label='Counts')\n",
    "plt.xlabel('X')\n",
    "plt.ylabel('Y')\n",
    "plt.title('2D Histogram of Samples')\n",
    "plt.show()"
   ]
  },
  {
   "cell_type": "markdown",
   "id": "e8d3744c-5aad-41c4-acbe-e2d2fea028cc",
   "metadata": {},
   "source": [
    "## 2. Sample Mean <a name=\"SampleMean\"></a>\n",
    "\n",
    "- **Definition:**  \n",
    "The sample mean is the average of observations in a dataset:\n",
    "$$\n",
    "\\bar{X} = \\frac{1}{n} \\sum_{i=1}^{n} X_i\n",
    "$$\n",
    "\n",
    "\n",
    "\n"
   ]
  },
  {
   "cell_type": "code",
   "execution_count": 8,
   "id": "a9cf8ebd-f4aa-4626-96ee-ae492d7d8c98",
   "metadata": {},
   "outputs": [
    {
     "name": "stdout",
     "output_type": "stream",
     "text": [
      "Sample Mean of X: -0.04017972937032587\n",
      "Sample Mean of Y: -0.06032322045682818\n"
     ]
    }
   ],
   "source": [
    "import numpy as np\n",
    "\n",
    "# Sample data\n",
    "X = np.random.normal(0,1,1000)\n",
    "Y = 0.5*X + np.random.normal(0,1,1000)\n",
    "\n",
    "# Compute sample means\n",
    "mean_X = np.mean(X)\n",
    "mean_Y = np.mean(Y)\n",
    "\n",
    "print(\"Sample Mean of X:\", mean_X)\n",
    "print(\"Sample Mean of Y:\", mean_Y)"
   ]
  },
  {
   "cell_type": "markdown",
   "id": "e981316c-bb22-4523-bf8b-9a8a311dcfde",
   "metadata": {},
   "source": [
    "## 3. Sample Variance <a name=\"SampleVariance\"></a>\n",
    "\n",
    "- **Definition:**  \n",
    "The sample variance measures the **spread or dispersion** of data around the mean:\n",
    "$$\n",
    "s_X^2 = \\frac{1}{n-1} \\sum_{i=1}^{n} (X_i - \\bar{X})^2\n",
    "$$\n"
   ]
  },
  {
   "cell_type": "code",
   "execution_count": 13,
   "id": "4993e548-5152-4931-b4dd-3e5f92ff126f",
   "metadata": {},
   "outputs": [
    {
     "name": "stdout",
     "output_type": "stream",
     "text": [
      "Sample Variance of X: 1.0577156753246713\n",
      "Sample Variance of Y: 1.155432271528806\n"
     ]
    }
   ],
   "source": [
    "import numpy as np\n",
    "\n",
    "# Sample data\n",
    "X = np.random.normal(0,1,1000)\n",
    "Y = 0.5*X + np.random.normal(0,1,1000)\n",
    "\n",
    "# Compute sample variances\n",
    "var_X = np.var(X, ddof=1)\n",
    "var_Y = np.var(Y, ddof=1)\n",
    "\n",
    "print(\"Sample Variance of X:\", var_X)\n",
    "print(\"Sample Variance of Y:\", var_Y)\n"
   ]
  },
  {
   "cell_type": "markdown",
   "id": "726359ac-33d3-46b5-97b7-6a9b1e995a3e",
   "metadata": {},
   "source": [
    "## 4. Sample Correlation <a name=\"SampleCorrelation\"></a>\n",
    "\n",
    "- **Definition:**  \n",
    "Sample correlation measures the **linear relationship** between two variables:\n",
    "$$\n",
    "r_{XY} = \\frac{\\sum_{i=1}^{n} (X_i - \\bar{X})(Y_i - \\bar{Y})}{(n-1) S_X S_Y}\n",
    "$$"
   ]
  }
 ],
 "metadata": {
  "kernelspec": {
   "display_name": "Python 3 (ipykernel)",
   "language": "python",
   "name": "python3"
  },
  "language_info": {
   "codemirror_mode": {
    "name": "ipython",
    "version": 3
   },
   "file_extension": ".py",
   "mimetype": "text/x-python",
   "name": "python",
   "nbconvert_exporter": "python",
   "pygments_lexer": "ipython3",
   "version": "3.12.4"
  }
 },
 "nbformat": 4,
 "nbformat_minor": 5
}
