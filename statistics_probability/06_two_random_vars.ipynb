{
 "cells": [
  {
   "cell_type": "markdown",
   "id": "fa5f9c12-0ed8-4faa-a028-4d74551cef61",
   "metadata": {},
   "source": [
    "# Random Variables\n",
    "## Objective Learning <a name=\"Objective\"></a>\n",
    "\n",
    "- Understand the **joint behavior** of two random variables.  \n",
    "- Learn to compute **joint CDF, joint PDF, and marginal distributions**.  \n",
    "- Study **independence** and its effect on covariance and variance.  \n",
    "- Learn to calculate **mean, variance, and covariance** for two variables.  \n",
    "- Apply concepts with **Python examples** for discrete and continuous random variables."
   ]
  },
  {
   "cell_type": "markdown",
   "id": "964dd75d-7fa2-4060-be95-40f0ddb1ebf6",
   "metadata": {},
   "source": [
    "## Table of Contents\n",
    "1. [Joint CDF and PDF](#JointCDFPDF)  \n",
    "2. [Characteristics of Joint Distributions](#Characteristics)  \n",
    "3. [Marginal Distributions](#Marginal)  \n",
    "4. [Functions of Two Random Variables](#FunctionsOf2RVs)  \n",
    "5. [Independence](#Independence)  \n",
    "6. [Mean and Variance of Two Random Variables](#MeanVariance)  \n",
    "7. [Python Example](#PythonExample)"
   ]
  },
  {
   "cell_type": "markdown",
   "id": "3fca87ac-34a7-4262-b9d3-f981491e2c84",
   "metadata": {},
   "source": [
    "## 1. Joint CDF and PDF <a name=\"JointCDFPDF\"></a>\n",
    "\n",
    "### Joint Cumulative Distribution Function (CDF)\n",
    "- The **joint CDF** of two random variables $X$ and $Y$ is:\n",
    "$$\n",
    "F_{X,Y}(x, y) = P(X \\le x, Y \\le y)\n",
    "$$\n",
    "- Represents the probability that **both variables are less than or equal to given values**.\n",
    "\n",
    "### Joint Probability Density Function (PDF) – Continuous Case\n",
    "- The **joint PDF** is the derivative of the joint CDF:\n",
    "$$\n",
    "f_{X,Y}(x, y) = \\frac{\\partial^2}{\\partial x \\, \\partial y} F_{X,Y}(x, y)\n",
    "$$\n",
    "- Represents the **density of probability** at a specific point $(x,y)$.\n",
    "\n",
    "### Joint Probability Mass Function (PMF) – Discrete Case\n",
    "- For discrete variables:\n",
    "$$\n",
    "P(X = x, Y = y) = f_{X,Y}(x, y)\n",
    "$$\n",
    "\n",
    "### Properties\n",
    "- $f_{X,Y}(x, y) \\ge 0$ for all $x, y$  \n",
    "- $\\int \\int f_{X,Y}(x, y) \\, dx\\,dy = 1$ (continuous)  \n",
    "- $\\sum_x \\sum_y f_{X,Y}(x, y) = 1$ (discrete)  \n",
    "\n",
    "### Example Python Code (Discrete Joint PMF)"
   ]
  },
  {
   "cell_type": "code",
   "execution_count": 25,
   "id": "9a009dc5-ef9b-4265-856a-e75c52605597",
   "metadata": {},
   "outputs": [
    {
     "name": "stdout",
     "output_type": "stream",
     "text": [
      "Joint PMF:\n",
      " [[0.02777778 0.02777778 0.02777778 0.02777778 0.02777778 0.02777778]\n",
      " [0.02777778 0.02777778 0.02777778 0.02777778 0.02777778 0.02777778]\n",
      " [0.02777778 0.02777778 0.02777778 0.02777778 0.02777778 0.02777778]\n",
      " [0.02777778 0.02777778 0.02777778 0.02777778 0.02777778 0.02777778]\n",
      " [0.02777778 0.02777778 0.02777778 0.02777778 0.02777778 0.02777778]\n",
      " [0.02777778 0.02777778 0.02777778 0.02777778 0.02777778 0.02777778]]\n"
     ]
    }
   ],
   "source": [
    "import numpy as np\n",
    "\n",
    "# Two dice example (discrete joint PMF)\n",
    "X = np.arange(1, 7)\n",
    "Y = np.arange(1, 7)\n",
    "joint_pmf = np.ones((6,6)) / 36  # uniform probability\n",
    "\n",
    "print(\"Joint PMF:\\n\", joint_pmf)"
   ]
  },
  {
   "cell_type": "markdown",
   "id": "fc29c868-f2c8-49fe-a549-7b31e2a9a91e",
   "metadata": {},
   "source": [
    "## 2. Characteristics of Joint Distributions <a name=\"Characteristics\"></a>\n",
    "\n",
    "- **Expected Values:**\n",
    "  - $E[X] = \\sum_x \\sum_y x \\, f_{X,Y}(x,y)$ (discrete)\n",
    "  - $E[Y] = \\sum_x \\sum_y y \\, f_{X,Y}(x,y)$ (discrete)\n",
    "  - For continuous: $E[X] = \\int \\int x \\, f_{X,Y}(x,y) \\, dx\\,dy$\n",
    "\n",
    "- **Variance:**\n",
    "  - $Var(X) = E[(X-E[X])^2]$\n",
    "  - $Var(Y) = E[(Y-E[Y])^2]$\n",
    "\n",
    "- **Covariance:**\n",
    "$$\n",
    "Cov(X,Y) = E[(X - E[X])(Y - E[Y])]\n",
    "$$\n",
    "  - Measures how two random variables vary **together**.\n",
    "  - Positive → X and Y tend to increase together.\n",
    "  - Negative → X increases while Y decreases.\n",
    "\n",
    "- **Correlation:**\n",
    "$$\n",
    "\\rho_{XY} = \\frac{Cov(X,Y)}{\\sigma_X \\sigma_Y}\n",
    "$$\n",
    "  - Standardized measure of linear relationship, ranges from -1 to 1.\n",
    "\n",
    "### Python Example (Discrete Joint PMF)"
   ]
  },
  {
   "cell_type": "code",
   "execution_count": 28,
   "id": "361d2579-32c8-49de-82ba-2784efd3436d",
   "metadata": {},
   "outputs": [
    {
     "name": "stdout",
     "output_type": "stream",
     "text": [
      "E[X]: 3.5 E[Y]: 3.5\n",
      "Cov(X,Y): 2.7755575615628914e-17\n",
      "Correlation: 9.51619735392991e-18\n"
     ]
    }
   ],
   "source": [
    "import numpy as np\n",
    "\n",
    "# Two dice rolls\n",
    "X = np.arange(1,7)\n",
    "Y = np.arange(1,7)\n",
    "joint_pmf = np.ones((6,6))/36  # uniform joint PMF\n",
    "\n",
    "# Marginal probabilities\n",
    "marg_X = joint_pmf.sum(axis=1)\n",
    "marg_Y = joint_pmf.sum(axis=0)\n",
    "\n",
    "# Expected values\n",
    "E_X = np.sum(X * marg_X)\n",
    "E_Y = np.sum(Y * marg_Y)\n",
    "\n",
    "# Covariance\n",
    "X_grid, Y_grid = np.meshgrid(X, Y, indexing='ij')\n",
    "Cov_XY = np.sum((X_grid - E_X)*(Y_grid - E_Y)*joint_pmf)\n",
    "\n",
    "# Correlation\n",
    "std_X = np.sqrt(np.sum((X - E_X)**2 * marg_X))\n",
    "std_Y = np.sqrt(np.sum((Y - E_Y)**2 * marg_Y))\n",
    "corr_XY = Cov_XY / (std_X * std_Y)\n",
    "\n",
    "print(\"E[X]:\", E_X, \"E[Y]:\", E_Y)\n",
    "print(\"Cov(X,Y):\", Cov_XY)\n",
    "print(\"Correlation:\", corr_XY)"
   ]
  },
  {
   "cell_type": "markdown",
   "id": "5168ce31-56ce-46e0-8d1f-9ef537d1c522",
   "metadata": {},
   "source": [
    "## 3. Marginal Distributions <a name=\"Marginal\"></a>\n",
    "\n",
    "- **Definition:**  \n",
    "  Marginal distributions describe the probability distribution of **one variable** irrespective of the other.\n",
    "\n",
    "### Formulas\n",
    "\n",
    "- **Discrete Case:**\n",
    "$$\n",
    "f_X(x) = \\sum_y f_{X,Y}(x, y)\n",
    "$$\n",
    "$$\n",
    "f_Y(y) = \\sum_x f_{X,Y}(x, y)\n",
    "$$\n",
    "\n",
    "- **Continuous Case:**\n",
    "$$\n",
    "f_X(x) = \\int_{-\\infty}^{\\infty} f_{X,Y}(x, y) \\, dy\n",
    "$$\n",
    "$$\n",
    "f_Y(y) = \\int_{-\\infty}^{\\infty} f_{X,Y}(x, y) \\, dx\n",
    "$$\n",
    "\n",
    "### Interpretation:\n",
    "- Marginal distributions give the **individual behavior** of X or Y alone.\n",
    "- They are derived by **summing or integrating out** the other variable.\n",
    "\n",
    "### Python Example (Discrete Case)"
   ]
  },
  {
   "cell_type": "code",
   "execution_count": 31,
   "id": "7216f2df-70af-40c4-b4ac-1b59d3801b55",
   "metadata": {},
   "outputs": [
    {
     "name": "stdout",
     "output_type": "stream",
     "text": [
      "Marginal distribution of X: [0.16666667 0.16666667 0.16666667 0.16666667 0.16666667 0.16666667]\n",
      "Marginal distribution of Y: [0.16666667 0.16666667 0.16666667 0.16666667 0.16666667 0.16666667]\n"
     ]
    }
   ],
   "source": [
    "import numpy as np\n",
    "\n",
    "# Joint PMF of two dice\n",
    "X = np.arange(1, 7)\n",
    "Y = np.arange(1, 7)\n",
    "joint_pmf = np.ones((6,6)) / 36  # uniform\n",
    "\n",
    "# Marginal distributions\n",
    "marginal_X = joint_pmf.sum(axis=1)\n",
    "marginal_Y = joint_pmf.sum(axis=0)\n",
    "\n",
    "print(\"Marginal distribution of X:\", marginal_X)\n",
    "print(\"Marginal distribution of Y:\", marginal_Y)\n"
   ]
  },
  {
   "cell_type": "markdown",
   "id": "4610d5f5-44b2-412d-bc63-f6a169f24f54",
   "metadata": {},
   "source": [
    "## 4. Functions of Two Random Variables <a name=\"FunctionsOf2RVs\"></a>\n",
    "\n",
    "- **Definition:**  \n",
    "  A function of two random variables, e.g., $Z = g(X, Y)$, is a new random variable derived from $X$ and $Y$.\n",
    "\n",
    "### Common Example: Sum of Two Variables\n",
    "- Let $Z = X + Y$.  \n",
    "- **PDF of $Z$ (Continuous Case)** using convolution:\n",
    "$$\n",
    "f_Z(z) = \\int_{-\\infty}^{\\infty} f_{X,Y}(x, z-x) \\, dx\n",
    "$$\n",
    "\n",
    "- **PMF of $Z$ (Discrete Case)**:\n",
    "$$\n",
    "P(Z = z) = \\sum_{x} P(X=x, Y=z-x)\n",
    "$$\n",
    "\n",
    "### Mean and Variance of Functions\n",
    "- **Expected Value:** $E[Z] = E[g(X,Y)]$  \n",
    "- **Variance:** $Var(Z) = E[(Z - E[Z])^2]$\n",
    "\n",
    "### Python Example: Sum of Two Dice"
   ]
  },
  {
   "cell_type": "code",
   "execution_count": 34,
   "id": "73e71701-a391-4f34-8d17-988ca0049d33",
   "metadata": {},
   "outputs": [
    {
     "name": "stdout",
     "output_type": "stream",
     "text": [
      "PMF of Z = X + Y: [0.02777778 0.05555556 0.08333333 0.11111111 0.13888889 0.16666667\n",
      " 0.13888889 0.11111111 0.08333333 0.05555556 0.02777778]\n"
     ]
    }
   ],
   "source": [
    "import numpy as np\n",
    "\n",
    "# Joint PMF for two dice\n",
    "X = np.arange(1, 7)\n",
    "Y = np.arange(1, 7)\n",
    "joint_pmf = np.ones((6,6)) / 36\n",
    "\n",
    "# Sum variable Z = X + Y\n",
    "Z_values = np.arange(2, 13)\n",
    "pmf_Z = np.array([np.sum(joint_pmf[X[:,None]+Y[None,:]==z]) for z in Z_values])\n",
    "\n",
    "print(\"PMF of Z = X + Y:\", pmf_Z)\n"
   ]
  },
  {
   "cell_type": "markdown",
   "id": "347b0b1e-3550-4e05-8216-dd4f2993852b",
   "metadata": {},
   "source": [
    "## 5. Independence <a name=\"Independence\"></a>\r\n",
    "\r\n",
    "- **Definition:**  \r\n",
    "  Two random variables $X$ and $Y$ are **independent** if the occurrence of one does **not affect** the probability distribution of the other.\r\n",
    "\r\n",
    "### Mathematical Condition\r\n",
    "- **Discrete Case:**\r\n",
    "$$\r\n",
    "P(X = x, Y = y) = P(X = x) \\cdot P(Y = y)\r\n",
    "$$\r\n",
    "\r\n",
    "- **Continuous Case:**\r\n",
    "$$\r\n",
    "f_{X,Y}(x, y) = f_X(x) \\cdot f_Y(y)\r\n",
    "$$\r\n",
    "\r\n",
    "### Implications\r\n",
    "- **Covariance:** $Cov(X,Y) = 0$ (uncorrelated)  \r\n",
    "  > Note: Zero covariance does not always imply independence.\r\n",
    "- **Simplifies computations** of probabilities, expected values, and variances for sums/functions of variables.\r\n",
    "\r\n",
    "### Python Example: IDlose(joint_pmf, product_marginals))\r\n"
   ]
  },
  {
   "cell_type": "code",
   "execution_count": 39,
   "id": "f0f1d843-adf2-47bc-a9ef-129677a2c5cc",
   "metadata": {},
   "outputs": [
    {
     "name": "stdout",
     "output_type": "stream",
     "text": [
      "Joint PMF equals product of marginals? True\n"
     ]
    }
   ],
   "source": [
    "import numpy as np\n",
    "\n",
    "# Two independent dice\n",
    "X = np.arange(1,7)\n",
    "Y = np.arange(1,7)\n",
    "joint_pmf = np.ones((6,6)) / 36  # uniform, independent\n",
    "\n",
    "# Check independence\n",
    "marg_X = joint_pmf.sum(axis=1)\n",
    "marg_Y = joint_pmf.sum(axis=0)\n",
    "product_marginals = np.outer(marg_X, marg_Y)\n",
    "\n",
    "print(\"Joint PMF equals product of marginals?\", np.allclose(joint_pmf, product_marginals))\n"
   ]
  },
  {
   "cell_type": "markdown",
   "id": "a32b4abb-90d1-4ac2-8bb2-9ecc94d37001",
   "metadata": {},
   "source": [
    "## 6. Mean and Variance of Two Random Variables <a name=\"MeanVariance\"></a>\n",
    "\n",
    "### Expected Value\n",
    "- For two random variables $X$ and $Y$, the expected value of their sum is:\n",
    "$$\n",
    "E[X + Y] = E[X] + E[Y]\n",
    "$$\n",
    "- More generally, for a function $Z = g(X, Y)$:\n",
    "$$\n",
    "E[Z] = E[g(X,Y)]\n",
    "$$\n",
    "\n",
    "### Variance\n",
    "- Variance of the sum:\n",
    "$$\n",
    "Var(X + Y) = Var(X) + Var(Y) + 2 \\, Cov(X,Y)\n",
    "$$\n",
    "- If $X$ and $Y$ are **independent**:\n",
    "$$\n",
    "Var(X + Y) = Var(X) + Var(Y)\n",
    "$$\n",
    "\n",
    "### Covariance\n",
    "- Measures how two variables vary together:\n",
    "$$\n",
    "Cov(X,Y) = E[(X - E[X])(Y - E[Y])]\n",
    "$$\n",
    "- Positive → tend to increase together  \n",
    "- Negative → one increases while the other decreases  \n",
    "\n",
    "### Python Example: Dice Rolls"
   ]
  },
  {
   "cell_type": "code",
   "execution_count": 44,
   "id": "39f1c536-10be-485c-98d6-72f40d9345a3",
   "metadata": {},
   "outputs": [
    {
     "name": "stdout",
     "output_type": "stream",
     "text": [
      "E[X]: 3.5 E[Y]: 3.5\n",
      "Cov(X,Y): 2.7755575615628914e-17\n",
      "Var(X+Y): 5.833333333333334\n"
     ]
    }
   ],
   "source": [
    "import numpy as np\n",
    "\n",
    "# Two dice (independent)\n",
    "X = np.arange(1,7)\n",
    "Y = np.arange(1,7)\n",
    "joint_pmf = np.ones((6,6))/36\n",
    "\n",
    "# Marginals\n",
    "marg_X = joint_pmf.sum(axis=1)\n",
    "marg_Y = joint_pmf.sum(axis=0)\n",
    "\n",
    "# Expected values\n",
    "E_X = np.sum(X * marg_X)\n",
    "E_Y = np.sum(Y * marg_Y)\n",
    "\n",
    "# Covariance\n",
    "X_grid, Y_grid = np.meshgrid(X, Y, indexing='ij')\n",
    "Cov_XY = np.sum((X_grid - E_X)*(Y_grid - E_Y)*joint_pmf)\n",
    "\n",
    "# Variance\n",
    "Var_X = np.sum((X - E_X)**2 * marg_X)\n",
    "Var_Y = np.sum((Y - E_Y)**2 * marg_Y)\n",
    "Var_sum = Var_X + Var_Y + 2*Cov_XY\n",
    "\n",
    "print(\"E[X]:\", E_X, \"E[Y]:\", E_Y)\n",
    "print(\"Cov(X,Y):\", Cov_XY)\n",
    "print(\"Var(X+Y):\", Var_sum)"
   ]
  },
  {
   "cell_type": "markdown",
   "id": "ea1e26da-9e82-453d-b070-a571896a4828",
   "metadata": {},
   "source": [
    "## 7. Python Example <a name=\"PythonExample\"></a>\n",
    "\n",
    "This example demonstrates **joint distributions, marginals, expected values, variance, covariance, and independence** for two discrete random variables (dice rolls).\n",
    "\n"
   ]
  },
  {
   "cell_type": "code",
   "execution_count": 46,
   "id": "832ad6f0-71c0-4a25-b4cd-f48fe0781dbb",
   "metadata": {},
   "outputs": [
    {
     "name": "stdout",
     "output_type": "stream",
     "text": [
      "Marginal X: [0.16666667 0.16666667 0.16666667 0.16666667 0.16666667 0.16666667]\n",
      "Marginal Y: [0.16666667 0.16666667 0.16666667 0.16666667 0.16666667 0.16666667]\n",
      "E[X]: 3.5 E[Y]: 3.5\n",
      "Var(X): 2.916666666666667 Var(Y): 2.916666666666667\n",
      "Cov(X,Y): 2.7755575615628914e-17\n",
      "Correlation: 9.51619735392991e-18\n",
      "Variance of X+Y: 5.833333333333334\n"
     ]
    }
   ],
   "source": [
    "\n",
    "import numpy as np\n",
    "\n",
    "# Two dice (independent)\n",
    "X = np.arange(1,7)\n",
    "Y = np.arange(1,7)\n",
    "joint_pmf = np.ones((6,6)) / 36  # uniform joint PMF\n",
    "\n",
    "# Marginal distributions\n",
    "marg_X = joint_pmf.sum(axis=1)\n",
    "marg_Y = joint_pmf.sum(axis=0)\n",
    "\n",
    "# Expected values\n",
    "E_X = np.sum(X * marg_X)\n",
    "E_Y = np.sum(Y * marg_Y)\n",
    "\n",
    "# Variance\n",
    "Var_X = np.sum((X - E_X)**2 * marg_X)\n",
    "Var_Y = np.sum((Y - E_Y)**2 * marg_Y)\n",
    "\n",
    "# Covariance\n",
    "X_grid, Y_grid = np.meshgrid(X, Y, indexing='ij')\n",
    "Cov_XY = np.sum((X_grid - E_X) * (Y_grid - E_Y) * joint_pmf)\n",
    "\n",
    "# Correlation\n",
    "std_X = np.sqrt(Var_X)\n",
    "std_Y = np.sqrt(Var_Y)\n",
    "corr_XY = Cov_XY / (std_X * std_Y)\n",
    "\n",
    "# Variance of sum\n",
    "Var_sum = Var_X + Var_Y + 2*Cov_XY\n",
    "\n",
    "# Display results\n",
    "print(\"Marginal X:\", marg_X)\n",
    "print(\"Marginal Y:\", marg_Y)\n",
    "print(\"E[X]:\", E_X, \"E[Y]:\", E_Y)\n",
    "print(\"Var(X):\", Var_X, \"Var(Y):\", Var_Y)\n",
    "print(\"Cov(X,Y):\", Cov_XY)\n",
    "print(\"Correlation:\", corr_XY)\n",
    "print(\"Variance of X+Y:\", Var_sum)\n"
   ]
  },
  {
   "cell_type": "code",
   "execution_count": 49,
   "id": "6fa3200d-fdf2-4315-946a-e274c48d5097",
   "metadata": {},
   "outputs": [
    {
     "data": {
      "image/png": "[encoded data removed]",
      "text/plain": [
       "<Figure size 600x500 with 2 Axes>"
      ]
     },
     "metadata": {},
     "output_type": "display_data"
    }
   ],
   "source": [
    "import matplotlib.pyplot as plt\n",
    "import seaborn as sns\n",
    "\n",
    "# Heatmap of joint PMF\n",
    "plt.figure(figsize=(6,5))\n",
    "sns.heatmap(joint_pmf, annot=True, cmap='Blues', xticklabels=Y, yticklabels=X)\n",
    "plt.title(\"Joint PMF of Two Dice Rolls\")\n",
    "plt.xlabel(\"Y\")\n",
    "plt.ylabel(\"X\")\n",
    "plt.show()\n"
   ]
  }
 ],
 "metadata": {
  "kernelspec": {
   "display_name": "Python 3 (ipykernel)",
   "language": "python",
   "name": "python3"
  },
  "language_info": {
   "codemirror_mode": {
    "name": "ipython",
    "version": 3
   },
   "file_extension": ".py",
   "mimetype": "text/x-python",
   "name": "python",
   "nbconvert_exporter": "python",
   "pygments_lexer": "ipython3",
   "version": "3.12.4"
  }
 },
 "nbformat": 4,
 "nbformat_minor": 5
}
