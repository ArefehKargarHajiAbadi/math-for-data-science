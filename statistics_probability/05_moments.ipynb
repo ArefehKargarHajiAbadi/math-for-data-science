{
 "cells": [
  {
   "cell_type": "markdown",
   "id": "a7ae0e23-11b4-4387-9914-2a5cd4a46372",
   "metadata": {},
   "source": [
    "# Moments\n",
    "In statistics, **moments** are quantitative measures that describe the **shape** and **characteristics** of a probability distribution.  \r\n",
    "They help summarize important properties such as **center**, **spread**, **symmetry**, and **peakedness** of data.\r\n",
    "\r\n",
    "Mathematically, the $r^{th}$ moment about the mean (also called the *central moment*) is defined as:\r\n",
    "\r\n",
    "$$\r\n",
    "\\mu_r = E[(X - \\mu)^r]\r\n",
    "$$\r\n",
    "\r\n",
    "where:  \r\n",
    "- $X$ = random variable  \r\n",
    "- $\\mu = E[X]$ = mean of $X$  \r\n",
    "- $r$ = order of the moment  \r\n",
    "\r\n",
    "---\r\n",
    "\r\n",
    "### Common Moments\r\n",
    "\r\n",
    "| Order ($r$) | Name | Description |\r\n",
    "|:------------:|:----------------|:------------------------------------|\r\n",
    "| 1 | **Mean (μ₁)** | Measures the central tendency (average value) |\r\n",
    "| 2 | **Variance (μ₂)** | Measures dispersion or spread of data |\r\n",
    "| 3 | **Skewness (μ₃)** | Measures asymmetry of the distribution |\r\n",
    "| 4 | **Kurtosis (μ₄)** | Measures “tailedness” or sharpness of the peak |\r\n",
    "\r\n",
    "---\r\n",
    "\r\n",
    "### Interpretation\r\n",
    "\r\n",
    "- **Lower-order moments** (mean, variance) describe *location* and *scale*.  \r\n",
    "- **Higher-order moments** (skewness, kurtosis) describe *shape*.  \n",
    "# Objective learninig\n",
    "- Understand the concept of **moments** as numerical measures describing the shape and characteristics of a distribution.  \n",
    "- Learn how to compute and interpret key moments:\n",
    "  - **Mean (1st moment):** Central tendency  \n",
    "  - **Variance (2nd moment):** Spread or dispersion  \n",
    "  - **Skewness (3rd moment):** Asymmetry  \n",
    "  - **Kurtosis (4th moment):** Peakedness or tail weight  \n",
    "- Apply these measures to **analyze and summarize data distributions**.  \n",
    "- Use Python to calculate and visualize moments for various datasets and probability distributions.\n"
   ]
  },
  {
   "cell_type": "markdown",
   "id": "4e02e970-3875-4857-818c-a9ec0d6bf5b3",
   "metadata": {},
   "source": [
    "# Table of Content\n",
    "1. [Mean (Expected Value)](#Mean)  \r\n",
    "2. [Variance](#Variance)  \r\n",
    "3. [Standard Deviation](#Std)  \r\n",
    "4. [Skewness](#Skewness)  \r\n",
    "5. [Kurtosis](#Kurtosis)  \r\n",
    "6. [Python Example](#PythonExampmmary)"
   ]
  },
  {
   "cell_type": "markdown",
   "id": "2384e6b5-d1a1-4f78-8397-985b75ad3016",
   "metadata": {},
   "source": [
    "## 1. Mean (Expected Value) <a name=\"Mean\"></a>\n",
    "\n",
    "- The **mean** (or expected value) represents the **average outcome** of a random variable $X$.\n",
    "\n",
    "### For a Discrete Random Variable:\n",
    "$$\n",
    "E[X] = \\sum_{i} x_i P(X = x_i)\n",
    "$$\n",
    "\n",
    "### For a Continuous Random Variable:\n",
    "$$\n",
    "E[X] = \\int_{-\\infty}^{\\infty} x f(x) \\, dx\n",
    "$$\n",
    "\n",
    "### Interpretation:\n",
    "- The mean gives the **center** of the probability distribution.  \n",
    "- It is a measure of **central tendency** used in data analysis and machine learning.  \n",
    "___\n",
    "### Python Example"
   ]
  },
  {
   "cell_type": "code",
   "execution_count": 7,
   "id": "d839c2ad-776c-4d22-9ba6-b050076d0bc8",
   "metadata": {},
   "outputs": [
    {
     "name": "stdout",
     "output_type": "stream",
     "text": [
      "Expected Value (Mean): 1.7000000000000002\n"
     ]
    }
   ],
   "source": [
    "import numpy as np\n",
    "# Example: Mean of discrete random variable\n",
    "x = np.array([0, 1, 2, 3])\n",
    "p = np.array([0.1, 0.3, 0.4, 0.2])\n",
    "\n",
    "mean = np.sum(x * p)\n",
    "print(\"Expected Value (Mean):\", mean)"
   ]
  },
  {
   "cell_type": "markdown",
   "id": "52e917f4-721b-4e96-8ff5-4eff6bd97040",
   "metadata": {},
   "source": [
    "## 2. Variance <a name=\"Variance\"></a>\n",
    "\n",
    "- **Variance** measures how much the values of a random variable **spread out from the mean**.\n",
    "\n",
    "### Definition:\n",
    "$$\n",
    "Var(X) = E[(X - \\mu)^2]\n",
    "$$\n",
    "\n",
    "### For a Discrete Random Variable:\n",
    "$$\n",
    "Var(X) = \\sum_{i} (x_i - \\mu)^2 P(X = x_i)\n",
    "$$\n",
    "\n",
    "### For a Continuous Random Variable:\n",
    "$$\n",
    "Var(X) = \\int_{-\\infty}^{\\infty} (x - \\mu)^2 f(x) \\, dx\n",
    "$$\n",
    "\n",
    "### Interpretation:\n",
    "- High variance → data points are **widely spread** around the mean.  \n",
    "- Low variance → data points are **close** to the mean.  \n",
    "- It is a measure of **dispersion** in data science and probability.\n",
    "___\n",
    "### Python Example"
   ]
  },
  {
   "cell_type": "code",
   "execution_count": 12,
   "id": "65a2502c-d93a-4caa-af9a-1627beab454b",
   "metadata": {},
   "outputs": [
    {
     "name": "stdout",
     "output_type": "stream",
     "text": [
      "Variance: 0.81\n"
     ]
    }
   ],
   "source": [
    "import numpy as np\n",
    "\n",
    "# Example: Variance of discrete random variable\n",
    "x = np.array([0, 1, 2, 3])\n",
    "p = np.array([0.1, 0.3, 0.4, 0.2])\n",
    "\n",
    "mean = np.sum(x * p)\n",
    "variance = np.sum(((x - mean) ** 2)*p)\n",
    "print(\"Variance:\", variance)\n"
   ]
  },
  {
   "cell_type": "markdown",
   "id": "5bc62fd4-30b2-4c68-a376-fb23000e032d",
   "metadata": {},
   "source": [
    "## 3. Standard Deviation <a name=\"Std\"></a>\n",
    "\n",
    "- **Standard Deviation (σ)** is the **square root of variance**.  \n",
    "- It represents the **average deviation** of data points from the mean.\n",
    "\n",
    "### Formula:\n",
    "$$\n",
    "\\sigma = \\sqrt{Var(X)} = \\sqrt{E[(X - \\mu)^2]}\n",
    "$$\n",
    "\n",
    "### Interpretation:\n",
    "- Provides a measure of **spread** in the same units as the data.  \n",
    "- Lower standard deviation → data tightly clustered around mean.  \n",
    "- Higher standard deviation → data more dispersed.  \n",
    "- Commonly used in statistics, finance, and data normalization.\n",
    "___\n",
    "### Python Example"
   ]
  },
  {
   "cell_type": "code",
   "execution_count": 19,
   "id": "0c00c15c-1145-4c70-bf1f-16f2774fae4d",
   "metadata": {},
   "outputs": [
    {
     "name": "stdout",
     "output_type": "stream",
     "text": [
      "Standard Deviation: 0.9\n"
     ]
    }
   ],
   "source": [
    "import numpy as np\n",
    "x = np.array([0, 1, 2, 3])\n",
    "p = np.array([0.1, 0.3, 0.4, 0.2])\n",
    "\n",
    "mean = np.sum(x * p)\n",
    "variance = np.sum(((x - mean) **2 ) * p)\n",
    "std_dev = np.sqrt(variance)\n",
    "print(\"Standard Deviation:\", std_dev)"
   ]
  },
  {
   "cell_type": "markdown",
   "id": "5239c36c-02d0-4c84-8cd9-cad129a69531",
   "metadata": {},
   "source": [
    "## 4. Skewness <a name=\"Skewness\"></a>\n",
    "\n",
    "- **Skewness** measures the **asymmetry** of a probability distribution around its mean.  \n",
    "- It indicates whether the data are **skewed to the left or right**.\n",
    "\n",
    "### Formula:\n",
    "$$\n",
    "\\text{Skewness} = \\frac{E[(X - \\mu)^3]}{\\sigma^3}\n",
    "$$\n",
    "\n",
    "### Interpretation:\n",
    "| Skewness Value | Shape | Description |\n",
    "|-----------------|--------|-------------|\n",
    "| $> 0$ | Right-skewed | Long tail on the right (e.g., income distribution) |\n",
    "| $< 0$ | Left-skewed | Long tail on the left |\n",
    "| $= 0$ | Symmetric | Same on both sides (e.g., normal distribution) |\n",
    "\n",
    "### Applications:\n",
    "- Used to check **normality** of data.  \n",
    "- Important for **financial risk analysis** and **statistical modeling**.  \n",
    "___\n",
    "### Python Example"
   ]
  },
  {
   "cell_type": "code",
   "execution_count": 24,
   "id": "c485d7e0-573e-400c-9133-359feeffa7f0",
   "metadata": {},
   "outputs": [
    {
     "name": "stdout",
     "output_type": "stream",
     "text": [
      "Skewness: -0.040339990417273215\n"
     ]
    }
   ],
   "source": [
    "import numpy as np\n",
    "from scipy.stats import skew\n",
    "# Example: Skewness of random data\n",
    "data = np.random.normal(0, 1, 1000)  # Normal distribution (expected skew ≈ 0)\n",
    "\n",
    "skewness_value = skew(data)\n",
    "print(\"Skewness:\", skewness_value)"
   ]
  },
  {
   "cell_type": "markdown",
   "id": "e9dcd05d-d7c8-4945-96d0-1a49e55c8f22",
   "metadata": {},
   "source": [
    "## 6. Python Example <a name=\"PythonExample\"></a>\n",
    "\n",
    "Below is a simple example showing how to compute **mean**, **variance**, **skewness**,and **kurtosis** using Python."
   ]
  },
  {
   "cell_type": "code",
   "execution_count": 29,
   "id": "5492721b-2c2e-4710-afd3-0b697c6edf5b",
   "metadata": {},
   "outputs": [
    {
     "name": "stdout",
     "output_type": "stream",
     "text": [
      "Mean: -0.0325\n",
      "Variance: 1.0556\n",
      "Skewness: 0.0642\n",
      "Kurtosis: 2.8022\n"
     ]
    }
   ],
   "source": [
    "import numpy as np\n",
    "from scipy.stats import skew, kurtosis\n",
    "\n",
    "# Generate random data (Normal Distribution)\n",
    "data = np.random.normal(0, 1, 1000)\n",
    "\n",
    "# Compute Moments\n",
    "mean_value = np.mean(data)\n",
    "variance_value = np.var(data)\n",
    "skewness_value = skew(data)\n",
    "kurtosis_value = kurtosis(data, fisher=False)  # Pearson’s definition (Normal = 3)\n",
    "\n",
    "# Display Results\n",
    "print(f\"Mean: {mean_value:.4f}\")\n",
    "print(f\"Variance: {variance_value:.4f}\")\n",
    "print(f\"Skewness: {skewness_value:.4f}\")\n",
    "print(f\"Kurtosis: {kurtosis_value:.4f}\")"
   ]
  }
 ],
 "metadata": {
  "kernelspec": {
   "display_name": "Python 3 (ipykernel)",
   "language": "python",
   "name": "python3"
  },
  "language_info": {
   "codemirror_mode": {
    "name": "ipython",
    "version": 3
   },
   "file_extension": ".py",
   "mimetype": "text/x-python",
   "name": "python",
   "nbconvert_exporter": "python",
   "pygments_lexer": "ipython3",
   "version": "3.12.4"
  }
 },
 "nbformat": 4,
 "nbformat_minor": 5
}
