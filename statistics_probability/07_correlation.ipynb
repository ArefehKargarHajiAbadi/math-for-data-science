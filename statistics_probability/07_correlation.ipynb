{
 "cells": [
  {
   "cell_type": "markdown",
   "id": "66b0faf3-2440-4bf0-abd3-285d09ed7c44",
   "metadata": {},
   "source": [
    "# Correlation\n",
    "\n",
    "## Objective Learning <a name=\"Objective\"></a>\n",
    "- Quantify the **strength and direction** of the linear relationship between two variables.  \r\n",
    "- Aid in **feature selection** and **dimensionality reduction**.  \r\n",
    "- Understand **dependencies** for risk analysis, experiments, or finance.  \r\n",
    "- Support **predictive modeling** by identifying potential predictors.  \r\n",
    "- Distinguish **uncorrelated** vs **independent** variables.  \r\n",
    "\r\n",
    "**Note:** Correlation ≠ causation; zero correlation only implies no linear relationship."
   ]
  },
  {
   "cell_type": "markdown",
   "id": "88642450-d216-4d0b-8bf8-0d8e485f070d",
   "metadata": {},
   "source": [
    "## Table of Contents\n",
    "\n",
    "1. [Correlation Coefficient](#CorrelationCoefficient)  \n",
    "2. [Uncorrelated Random Variables](#UncorrelatedRVs)  \n",
    "3. [Orthogonal Random Variables](#OrthogonalRVs)  \n",
    "4. [Independent Random Variables](#IndependentRVs)  \n",
    "5. [Joint Moments](#JointMoments)  \n",
    "6. [Independency](#Independency)  \n",
    "7. [Jointly Normal Random Variables](#JointlyNormal)\n",
    "\n",
    "---"
   ]
  },
  {
   "cell_type": "markdown",
   "id": "03b4a20e-cc1a-4066-9052-d2d6262acf30",
   "metadata": {},
   "source": [
    "## 1. Correlation Coefficient <a name=\"CorrelationCoefficient\"></a>\n",
    "\n",
    "- **Definition:** Measures the **linear relationship** between two random variables $X$ and $Y$:\n",
    "$$\n",
    "\\rho_{XY} = \\frac{Cov(X,Y)}{\\sigma_X \\sigma_Y}\n",
    "$$\n",
    "\n",
    "- **Interpretation:**\n",
    "  - $\\rho = 1$: perfect positive correlation  \n",
    "  - $\\rho = -1$: perfect negative correlation  \n",
    "  - $\\rho = 0$: no linear correlation\n",
    "\n",
    "- **Properties:**\n",
    "  - Dimensionless (range: [-1, 1])  \n",
    "  - Symmetric: $\\rho_{XY} = \\rho_{YX}$  \n",
    "\n",
    "- **Python Example:**\n",
    "\n",
    "\n"
   ]
  },
  {
   "cell_type": "code",
   "execution_count": 5,
   "id": "f5921d29-ec61-4f29-9040-f23633df160d",
   "metadata": {},
   "outputs": [
    {
     "name": "stdout",
     "output_type": "stream",
     "text": [
      "Correlation coefficient: 0.9999999999999999\n"
     ]
    }
   ],
   "source": [
    "import numpy as np\n",
    "\n",
    "X = np.array([1,2,3,4,5])\n",
    "Y = np.array([2,4,6,8,10])\n",
    "\n",
    "rho = np.corrcoef(X, Y)[0,1]\n",
    "print(\"Correlation coefficient:\", rho)"
   ]
  },
  {
   "cell_type": "markdown",
   "id": "abe3a2e2-e847-46cc-ab5a-5d44cfe2eee9",
   "metadata": {},
   "source": [
    "## 2. Uncorrelated Random Variables <a name=\"UncorrelatedRVs\"></a>\n",
    "\n",
    "- **Definition:**  \n",
    "  Two random variables $X$ and $Y$ are **uncorrelated** if their **covariance is zero**:\n",
    "$$\n",
    "Cov(X, Y) = 0\n",
    "$$\n",
    "\n",
    "- **Key Points:**\n",
    "  - Measures **lack of linear relationship** between variables.  \n",
    "  - Uncorrelated variables can still have **non-linear dependencies**.  \n",
    "  - Independence ⇒ uncorrelated, but uncorrelated ⇏ independence.\n",
    "\n",
    "- **Python Example:**"
   ]
  },
  {
   "cell_type": "code",
   "execution_count": 15,
   "id": "d17f335f-7b5a-4348-b98a-18378463c32c",
   "metadata": {},
   "outputs": [
    {
     "name": "stdout",
     "output_type": "stream",
     "text": [
      "Covariance: -0.05043284289475615\n"
     ]
    }
   ],
   "source": [
    "\n",
    "# Generate two random variables\n",
    "X = np.random.normal(0,1,1000)\n",
    "Y = np.random.normal(0,1,1000)\n",
    "\n",
    "# Covariance\n",
    "cov_XY = np.cov(X,Y)[0,1]\n",
    "print(\"Covariance:\", cov_XY)\n"
   ]
  },
  {
   "cell_type": "markdown",
   "id": "4c5d2fa9-6841-41a4-aab0-b9965c270264",
   "metadata": {},
   "source": [
    "## 3. Orthogonal Random Variables <a name=\"OrthogonalRVs\"></a>\n",
    "\n",
    "- **Definition:**  \n",
    "  Two zero-mean random variables $X$ and $Y$ are **orthogonal** if:\n",
    "$$\n",
    "E[X Y] = 0\n",
    "$$\n",
    "\n",
    "- **Key Points:**\n",
    "  - Orthogonality is a **generalization of uncorrelatedness** for random variables.  \n",
    "  - If $X$ and $Y$ are orthogonal and have zero mean, they are uncorrelated.  \n",
    "  - Often used in **signal processing, PCA, and vector spaces**.\n",
    "\n",
    "- **Python Example:**"
   ]
  },
  {
   "cell_type": "code",
   "execution_count": 20,
   "id": "6f8ea918-b45b-4cdc-a46a-f86c1442c480",
   "metadata": {},
   "outputs": [
    {
     "name": "stdout",
     "output_type": "stream",
     "text": [
      "E[X*Y] (should be ~0 if orthogonal): 0.0014948051052333308\n"
     ]
    }
   ],
   "source": [
    "import numpy as np\n",
    "\n",
    "# Generate two zero-mean random variables\n",
    "X = np.random.normal(0,1,1000)\n",
    "Y = np.random.normal(0,1,1000)\n",
    "\n",
    "# Check orthogonality\n",
    "orthogonal = np.mean(X*Y)\n",
    "print(\"E[X*Y] (should be ~0 if orthogonal):\", orthogonal)\n"
   ]
  },
  {
   "cell_type": "markdown",
   "id": "f3403650-f631-478a-8eb5-86d008a06ce2",
   "metadata": {},
   "source": [
    "## 4. Independent Random Variables <a name=\"IndependentRVs\"></a>\n",
    "\n",
    "- **Definition:** $X$ and $Y$ are independent if:\n",
    "$$\n",
    "f_{X,Y}(x,y) = f_X(x) \\cdot f_Y(y)\n",
    "$$\n",
    "\n",
    "- **Implications:**\n",
    "  - Independent ⇒ Uncorrelated  \n",
    "  - Cov(X,Y) = 0  \n",
    "  - Simplifies calculations of probabilities and expectations"
   ]
  },
  {
   "cell_type": "markdown",
   "id": "49c77e45-dc6d-491d-8027-9ac6c2bb22bc",
   "metadata": {},
   "source": [
    "## 5. Joint Moments <a name=\"JointMoments\"></a>\n",
    "\n",
    "- **Definition:** $m_{r,s} = E[X^r Y^s]$  \n",
    "- Describes higher-order interactions between $X$ and $Y$  \n",
    "- Useful for **multivariate analysis** and **moment-based modeling**\n",
    "\n",
    "- **Python Example:**\n"
   ]
  },
  {
   "cell_type": "code",
   "execution_count": 28,
   "id": "730890af-e834-434d-8180-878adc707895",
   "metadata": {},
   "outputs": [
    {
     "name": "stdout",
     "output_type": "stream",
     "text": [
      "E[XY]: -0.053222461580053185\n",
      "E[X^2]: 0.9493088570351041\n"
     ]
    }
   ],
   "source": [
    "\n",
    "import numpy as np\n",
    "\n",
    "X = np.random.normal(0,1,1000)\n",
    "Y = np.random.normal(0,1,1000)\n",
    "\n",
    "joint_moment_1_1 = np.mean(X*Y)\n",
    "joint_moment_2_0 = np.mean(X**2)\n",
    "print(\"E[XY]:\", joint_moment_1_1)\n",
    "print(\"E[X^2]:\", joint_moment_2_0)\n"
   ]
  },
  {
   "cell_type": "markdown",
   "id": "572935c7-b651-491d-9fc2-474ad043313f",
   "metadata": {},
   "source": [
    "## 6. Independency <a name=\"Independency\"></a>\n",
    "\n",
    "- Independent RVs: $P(X \\le x, Y \\le y) = P(X \\le x) P(Y \\le y)$  \n",
    "- Covariance = 0 and correlation = 0 for independent variables  \n",
    "- Important in **simulations and modeling** to simplify calculations\n"
   ]
  },
  {
   "cell_type": "markdown",
   "id": "41f0c7cf-1cab-4e2a-8f80-0c80fb0ad857",
   "metadata": {},
   "source": [
    "## 7. Jointly Normal Random Variables <a name=\"JointlyNormal\"></a>\n",
    "\n",
    "- **Definition:** $(X,Y)$ is jointly normal if any linear combination $aX+bY$ is normally distributed.  \n",
    "- Fully described by **mean vector** and **covariance matrix**  \n",
    "- Properties:\n",
    "  - Independence ⇔ Uncorrelated (for jointly normal)\n",
    "- Applications: PCA, multivariate regression, Gaussian processes\n",
    "\n",
    "#### Python Example: Simulate Jointly Normal"
   ]
  },
  {
   "cell_type": "code",
   "execution_count": 34,
   "id": "bd29e28b-f1a8-4c8f-8bb6-2c9688076b8d",
   "metadata": {},
   "outputs": [
    {
     "name": "stdout",
     "output_type": "stream",
     "text": [
      "Sample covariance: 0.5160912681843252\n"
     ]
    }
   ],
   "source": [
    "import numpy as np\n",
    "\n",
    "mean = [0,0]\n",
    "cov = [[1,0.5],[0.5,1]]  # covariance matrix\n",
    "X,Y = np.random.multivariate_normal(mean, cov, 1000).T\n",
    "\n",
    "print(\"Sample covariance:\", np.cov(X,Y)[0,1])\n"
   ]
  }
 ],
 "metadata": {
  "kernelspec": {
   "display_name": "Python 3 (ipykernel)",
   "language": "python",
   "name": "python3"
  },
  "language_info": {
   "codemirror_mode": {
    "name": "ipython",
    "version": 3
   },
   "file_extension": ".py",
   "mimetype": "text/x-python",
   "name": "python",
   "nbconvert_exporter": "python",
   "pygments_lexer": "ipython3",
   "version": "3.12.4"
  }
 },
 "nbformat": 4,
 "nbformat_minor": 5
}
